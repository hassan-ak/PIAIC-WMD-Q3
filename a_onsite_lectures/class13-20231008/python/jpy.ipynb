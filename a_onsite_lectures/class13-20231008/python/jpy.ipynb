{
 "cells": [
  {
   "cell_type": "markdown",
   "metadata": {},
   "source": [
    "# Python 3.12"
   ]
  },
  {
   "cell_type": "code",
   "execution_count": 1,
   "metadata": {},
   "outputs": [
    {
     "name": "stdout",
     "output_type": "stream",
     "text": [
      "Hello world\n"
     ]
    }
   ],
   "source": [
    "print(\"Hello world\")"
   ]
  },
  {
   "cell_type": "code",
   "execution_count": 2,
   "metadata": {},
   "outputs": [
    {
     "name": "stdout",
     "output_type": "stream",
     "text": [
      "this is new cell\n"
     ]
    }
   ],
   "source": [
    "print(\"this is new cell\")"
   ]
  },
  {
   "cell_type": "code",
   "execution_count": 3,
   "metadata": {},
   "outputs": [
    {
     "name": "stdout",
     "output_type": "stream",
     "text": [
      "6\n"
     ]
    }
   ],
   "source": [
    "print(3+3)"
   ]
  },
  {
   "cell_type": "code",
   "execution_count": 4,
   "metadata": {},
   "outputs": [
    {
     "name": "stdout",
     "output_type": "stream",
     "text": [
      "Zeeshan\n",
      "27\n"
     ]
    }
   ],
   "source": [
    "#example of 1\n",
    "name = \"Zeeshan\"\n",
    "print(name)\n",
    "name = 27\n",
    "print(name)"
   ]
  },
  {
   "cell_type": "markdown",
   "metadata": {},
   "source": [
    "example1"
   ]
  },
  {
   "cell_type": "code",
   "execution_count": 5,
   "metadata": {},
   "outputs": [
    {
     "name": "stdout",
     "output_type": "stream",
     "text": [
      "<class 'str'>\n",
      "Zeeshan\n",
      "<class 'int'>\n",
      "27\n"
     ]
    }
   ],
   "source": [
    "#example of 2\n",
    "name = \"Zeeshan\"\n",
    "print(type(name))\n",
    "print(name)\n",
    "name = 27\n",
    "print(type(name))\n",
    "print(name)"
   ]
  },
  {
   "cell_type": "code",
   "execution_count": 6,
   "metadata": {},
   "outputs": [
    {
     "name": "stdout",
     "output_type": "stream",
     "text": [
      "<class 'str'>\n",
      "2516552292208\n",
      "Zeeshan\n",
      "['__add__', '__class__', '__contains__', '__delattr__', '__dir__', '__doc__', '__eq__', '__format__', '__ge__', '__getattribute__', '__getitem__', '__getnewargs__', '__getstate__', '__gt__', '__hash__', '__init__', '__init_subclass__', '__iter__', '__le__', '__len__', '__lt__', '__mod__', '__mul__', '__ne__', '__new__', '__reduce__', '__reduce_ex__', '__repr__', '__rmod__', '__rmul__', '__setattr__', '__sizeof__', '__str__', '__subclasshook__', 'capitalize', 'casefold', 'center', 'count', 'encode', 'endswith', 'expandtabs', 'find', 'format', 'format_map', 'index', 'isalnum', 'isalpha', 'isascii', 'isdecimal', 'isdigit', 'isidentifier', 'islower', 'isnumeric', 'isprintable', 'isspace', 'istitle', 'isupper', 'join', 'ljust', 'lower', 'lstrip', 'maketrans', 'partition', 'removeprefix', 'removesuffix', 'replace', 'rfind', 'rindex', 'rjust', 'rpartition', 'rsplit', 'rstrip', 'split', 'splitlines', 'startswith', 'strip', 'swapcase', 'title', 'translate', 'upper', 'zfill']\n"
     ]
    }
   ],
   "source": [
    "name = \"Zeeshan\"\n",
    "print(type(name)) #class\n",
    "print(id(name)) #address\n",
    "print(name) #methods and attributes\n",
    "print(dir(name))"
   ]
  },
  {
   "cell_type": "markdown",
   "metadata": {},
   "source": [
    "## python with types"
   ]
  },
  {
   "cell_type": "code",
   "execution_count": 7,
   "metadata": {},
   "outputs": [
    {
     "name": "stdout",
     "output_type": "stream",
     "text": [
      "<class 'str'>\n",
      "2516552292208\n",
      "['__add__', '__class__', '__contains__', '__delattr__', '__dir__', '__doc__', '__eq__', '__format__', '__ge__', '__getattribute__', '__getitem__', '__getnewargs__', '__getstate__', '__gt__', '__hash__', '__init__', '__init_subclass__', '__iter__', '__le__', '__len__', '__lt__', '__mod__', '__mul__', '__ne__', '__new__', '__reduce__', '__reduce_ex__', '__repr__', '__rmod__', '__rmul__', '__setattr__', '__sizeof__', '__str__', '__subclasshook__', 'capitalize', 'casefold', 'center', 'count', 'encode', 'endswith', 'expandtabs', 'find', 'format', 'format_map', 'index', 'isalnum', 'isalpha', 'isascii', 'isdecimal', 'isdigit', 'isidentifier', 'islower', 'isnumeric', 'isprintable', 'isspace', 'istitle', 'isupper', 'join', 'ljust', 'lower', 'lstrip', 'maketrans', 'partition', 'removeprefix', 'removesuffix', 'replace', 'rfind', 'rindex', 'rjust', 'rpartition', 'rsplit', 'rstrip', 'split', 'splitlines', 'startswith', 'strip', 'swapcase', 'title', 'translate', 'upper', 'zfill']\n"
     ]
    }
   ],
   "source": [
    "name : str = \"Zeeshan\"\n",
    "print(type(name)) #class\n",
    "print(id(name)) #address\n",
    "print(dir(name))"
   ]
  },
  {
   "cell_type": "code",
   "execution_count": 8,
   "metadata": {},
   "outputs": [
    {
     "name": "stdout",
     "output_type": "stream",
     "text": [
      "['a', 2, 'c']\n",
      "<class 'list'>\n",
      "2516552205440\n"
     ]
    }
   ],
   "source": [
    "name : list[str] = [\"a\", 2, \"c\"]\n",
    "print(name)\n",
    "print(type(name)) #class\n",
    "print(id(name)) #address"
   ]
  },
  {
   "cell_type": "markdown",
   "metadata": {},
   "source": [
    "```List item 1 has incompatible type \"int\"; expected \"str\"  [list-item]mypy```"
   ]
  },
  {
   "cell_type": "code",
   "execution_count": 9,
   "metadata": {},
   "outputs": [
    {
     "name": "stdout",
     "output_type": "stream",
     "text": [
      "['a', 'b', 'c']\n",
      "<class 'list'>\n",
      "2516552206912\n"
     ]
    }
   ],
   "source": [
    "name : list[str] = [\"a\", \"b\", \"c\"]\n",
    "print(name)\n",
    "print(type(name)) #class\n",
    "print(id(name)) #address"
   ]
  },
  {
   "cell_type": "code",
   "execution_count": 10,
   "metadata": {},
   "outputs": [
    {
     "name": "stdout",
     "output_type": "stream",
     "text": [
      "<class 'bool'>\n",
      "140718953937904\n"
     ]
    }
   ],
   "source": [
    "name : bool = True\n",
    "print(type(name)) #class\n",
    "print(id(name)) #address"
   ]
  },
  {
   "cell_type": "code",
   "execution_count": 11,
   "metadata": {},
   "outputs": [
    {
     "name": "stdout",
     "output_type": "stream",
     "text": [
      "<class 'int'>\n",
      "140718955068664\n"
     ]
    }
   ],
   "source": [
    "name : int = 27\n",
    "print(type(name)) #class\n",
    "print(id(name)) #address\n",
    "#print(dir(name))"
   ]
  },
  {
   "cell_type": "code",
   "execution_count": 12,
   "metadata": {},
   "outputs": [
    {
     "name": "stdout",
     "output_type": "stream",
     "text": [
      "<class 'int'>\n",
      "140718955068664\n"
     ]
    }
   ],
   "source": [
    "name : str = 27\n",
    "print(type(name)) #class\n",
    "print(id(name)) #address\n",
    "#print(dir(name))"
   ]
  },
  {
   "cell_type": "markdown",
   "metadata": {},
   "source": [
    "```main.py:1: error: Incompatible types in assignment (expression has type \"int\", variable has type \"str\")  [assignment]\n",
    "Found 1 error in 1 file (checked 1 source file)```"
   ]
  },
  {
   "cell_type": "markdown",
   "metadata": {},
   "source": [
    "name : tuple[str,int,float] = (\"John\", \"Doe\", \"Smith\")\n",
    "print(name)\n",
    "print(type(name)) #class"
   ]
  },
  {
   "cell_type": "markdown",
   "metadata": {},
   "source": [
    "name : tuple[str,int,float] = (\"John\", 2, 2.5)\n",
    "print(name)\n",
    "print(type(name)) #class"
   ]
  },
  {
   "cell_type": "markdown",
   "metadata": {},
   "source": [
    "name : set[str] = {\"A\", \"A\", \"A\", \"B\", \"E\", \"D\", \"C\"}\n",
    "print(name)\n",
    "print(type(name)) #class\n",
    "print(id(name)) #address"
   ]
  },
  {
   "cell_type": "code",
   "execution_count": 13,
   "metadata": {},
   "outputs": [
    {
     "name": "stdout",
     "output_type": "stream",
     "text": [
      "{'name': 'Zeeshan', 'age': 23}\n",
      "<class 'dict'>\n"
     ]
    }
   ],
   "source": [
    "name : dict[str,str] = {\"name\":\"Zeeshan\",\"age\":23}\n",
    "print(name)\n",
    "print(type(name)) #class"
   ]
  },
  {
   "cell_type": "markdown",
   "metadata": {},
   "source": [
    "```Dict entry 1 has incompatible type \"str\": \"int\"; expected \"str\": \"str\"  [dict-item]mypy```"
   ]
  },
  {
   "cell_type": "markdown",
   "metadata": {},
   "source": [
    "name : dict[str,str] = {\"name\":\"Zeeshan\",\"age\":\"23\"}\n",
    "print(name)\n",
    "print(type(name)) #class"
   ]
  },
  {
   "cell_type": "markdown",
   "metadata": {},
   "source": [
    "# Chapter2 : Strings"
   ]
  },
  {
   "cell_type": "code",
   "execution_count": 14,
   "metadata": {},
   "outputs": [
    {
     "name": "stdout",
     "output_type": "stream",
     "text": [
      "Zeeshan\n",
      "<class 'str'>\n"
     ]
    }
   ],
   "source": [
    "name : str = \"Zeeshan\"\n",
    "print(name)\n",
    "print(type(name))"
   ]
  },
  {
   "cell_type": "code",
   "execution_count": 15,
   "metadata": {},
   "outputs": [
    {
     "name": "stdout",
     "output_type": "stream",
     "text": [
      "Zeeshan\n",
      "<class 'str'>\n"
     ]
    }
   ],
   "source": [
    "name : str = 'Zeeshan' \n",
    "print(name)\n",
    "print(type(name))"
   ]
  },
  {
   "cell_type": "markdown",
   "metadata": {},
   "source": [
    "## old string concat methods"
   ]
  },
  {
   "cell_type": "code",
   "execution_count": 16,
   "metadata": {},
   "outputs": [
    {
     "name": "stdout",
     "output_type": "stream",
     "text": [
      "ZeeshanAhmedKhan\n",
      "<class 'str'>\n"
     ]
    }
   ],
   "source": [
    "name : str = 'Zeeshan'\\\n",
    "    'Ahmed'\\\n",
    "    'Khan' \n",
    "print(name)\n",
    "print(type(name))"
   ]
  },
  {
   "cell_type": "code",
   "execution_count": 17,
   "metadata": {},
   "outputs": [
    {
     "name": "stdout",
     "output_type": "stream",
     "text": [
      "Zeeshan    Ahmed    Khan\n",
      "<class 'str'>\n"
     ]
    }
   ],
   "source": [
    "name : str = 'Zeeshan\\\n",
    "    Ahmed\\\n",
    "    Khan' \n",
    "print(name)\n",
    "print(type(name))"
   ]
  },
  {
   "cell_type": "markdown",
   "metadata": {},
   "source": [
    "name : str = `Zeeshan\n",
    "    Ahmed\n",
    "    Khan`\n",
    "print(name)\n",
    "print(type(name))"
   ]
  },
  {
   "cell_type": "markdown",
   "metadata": {},
   "source": [
    "```\"Zeeshan\" is not definedPylancereportUndefinedVariable\n",
    "invalid syntax  [syntax]mypy```"
   ]
  },
  {
   "cell_type": "code",
   "execution_count": 18,
   "metadata": {},
   "outputs": [
    {
     "name": "stdout",
     "output_type": "stream",
     "text": [
      "Zeeshan\n",
      "    Ahmed\n",
      "    Khan\n",
      "<class 'str'>\n"
     ]
    }
   ],
   "source": [
    "name : str = \"\"\"Zeeshan\n",
    "    Ahmed\n",
    "    Khan\"\"\"\n",
    "print(name)\n",
    "print(type(name))"
   ]
  },
  {
   "cell_type": "code",
   "execution_count": 19,
   "metadata": {},
   "outputs": [
    {
     "name": "stdout",
     "output_type": "stream",
     "text": [
      "Zeeshan\n",
      "    Ahmed\n",
      "    Khan\n",
      "<class 'str'>\n"
     ]
    }
   ],
   "source": [
    "name : str = '''Zeeshan\n",
    "    Ahmed\n",
    "    Khan'''\n",
    "print(name)\n",
    "print(type(name))"
   ]
  },
  {
   "cell_type": "code",
   "execution_count": 20,
   "metadata": {},
   "outputs": [
    {
     "ename": "TypeError",
     "evalue": "can only concatenate str (not \"int\") to str",
     "output_type": "error",
     "traceback": [
      "\u001b[1;31m---------------------------------------------------------------------------\u001b[0m",
      "\u001b[1;31mTypeError\u001b[0m                                 Traceback (most recent call last)",
      "\u001b[1;32me:\\PIAIC\\GAI\\01 python\\jpy.ipynb Cell 31\u001b[0m line \u001b[0;36m5\n\u001b[0;32m      <a href='vscode-notebook-cell:/e%3A/PIAIC/GAI/01%20python/jpy.ipynb#X42sZmlsZQ%3D%3D?line=2'>3</a>\u001b[0m age : \u001b[39mint\u001b[39m \u001b[39m=\u001b[39m \u001b[39m25\u001b[39m\n\u001b[0;32m      <a href='vscode-notebook-cell:/e%3A/PIAIC/GAI/01%20python/jpy.ipynb#X42sZmlsZQ%3D%3D?line=3'>4</a>\u001b[0m education : \u001b[39mstr\u001b[39m \u001b[39m=\u001b[39m \u001b[39m\"\u001b[39m\u001b[39mBSSE\u001b[39m\u001b[39m\"\u001b[39m\n\u001b[1;32m----> <a href='vscode-notebook-cell:/e%3A/PIAIC/GAI/01%20python/jpy.ipynb#X42sZmlsZQ%3D%3D?line=4'>5</a>\u001b[0m card: \u001b[39mstr\u001b[39m \u001b[39m=\u001b[39m \u001b[39m\"\u001b[39;49m\u001b[39mPIAIC student card\u001b[39;49m\u001b[39m\\n\u001b[39;49;00m\u001b[39mStudent Name:\u001b[39;49m\u001b[39m\\t\u001b[39;49;00m\u001b[39m\"\u001b[39;49m \u001b[39m+\u001b[39;49m name \u001b[39m+\u001b[39;49m \u001b[39m\"\u001b[39;49m\u001b[39m\\n\u001b[39;49;00m\u001b[39mAge:\u001b[39;49m\u001b[39m\\t\u001b[39;49;00m\u001b[39m\"\u001b[39;49m \u001b[39m+\u001b[39;49m age\n\u001b[0;32m      <a href='vscode-notebook-cell:/e%3A/PIAIC/GAI/01%20python/jpy.ipynb#X42sZmlsZQ%3D%3D?line=5'>6</a>\u001b[0m \u001b[39mprint\u001b[39m(card)\n",
      "\u001b[1;31mTypeError\u001b[0m: can only concatenate str (not \"int\") to str"
     ]
    }
   ],
   "source": [
    "name : str = \"Zeeshan\"\n",
    "fname : str = \"Aziz\"\n",
    "age : int = 25\n",
    "education : str = \"BSSE\"\n",
    "card: str = \"PIAIC student card\\nStudent Name:\\t\" + name + \"\\nAge:\\t\" + age\n",
    "print(card)"
   ]
  },
  {
   "cell_type": "code",
   "execution_count": null,
   "metadata": {},
   "outputs": [
    {
     "name": "stdout",
     "output_type": "stream",
     "text": [
      "PIAIC student card\n",
      "Student Name:\tZeeshan\n",
      "Age:\t25\n"
     ]
    }
   ],
   "source": [
    "name : str = \"Zeeshan\"\n",
    "fname : str = \"Aziz\"\n",
    "age : int = 25\n",
    "education : str = \"BSSE\"\n",
    "card: str = \"PIAIC student card\\nStudent Name:\\t\" + name + \"\\nAge:\\t\" + str(age)\n",
    "print(card)"
   ]
  },
  {
   "cell_type": "code",
   "execution_count": null,
   "metadata": {},
   "outputs": [
    {
     "name": "stdout",
     "output_type": "stream",
     "text": [
      "\n",
      "PIAIC Student Card \n",
      "Name : Zeeshan\n",
      "Father Name : Aziz\n",
      "Age : 25\n",
      "Education : BSSE\n",
      "\n"
     ]
    }
   ],
   "source": [
    "name : str = \"Zeeshan\"\n",
    "fname : str = \"Aziz\"\n",
    "age : int = 25\n",
    "education : str = \"BSSE\"\n",
    "card: str = \"\"\"\n",
    "PIAIC Student Card \n",
    "Name : %s\n",
    "Father Name : %s\n",
    "Age : %d\n",
    "Education : %s\n",
    "\"\"\" % (name, fname, age, education)\n",
    "print(card)"
   ]
  },
  {
   "cell_type": "code",
   "execution_count": null,
   "metadata": {},
   "outputs": [
    {
     "name": "stdout",
     "output_type": "stream",
     "text": [
      "\n",
      "PIAIC Student Card \n",
      "Name : Zeeshan\n",
      "Father Name : Aziz\n",
      "Age : 25\n",
      "Education : BSSE\n",
      "\n"
     ]
    }
   ],
   "source": [
    "name : str = \"Zeeshan\"\n",
    "fname : str = \"Aziz\"\n",
    "age : int = 25\n",
    "education : str = \"BSSE\"\n",
    "card: str = \"\"\"\n",
    "PIAIC Student Card \n",
    "Name : {}\n",
    "Father Name : {}\n",
    "Age : {}\n",
    "Education : {}\n",
    "\"\"\".format(name, fname, age, education)\n",
    "print(card)"
   ]
  },
  {
   "cell_type": "code",
   "execution_count": null,
   "metadata": {},
   "outputs": [
    {
     "name": "stdout",
     "output_type": "stream",
     "text": [
      "\n",
      "PIAIC Student Card \n",
      "Name : Zeeshan\n",
      "Father Name : BSSE\n",
      "Age : 25\n",
      "Education : Aziz\n",
      "\n"
     ]
    }
   ],
   "source": [
    "name : str = \"Zeeshan\"\n",
    "fname : str = \"Aziz\"\n",
    "age : int = 25\n",
    "education : str = \"BSSE\"\n",
    "card: str = \"\"\"\n",
    "PIAIC Student Card \n",
    "Name : {0}\n",
    "Father Name : {3}\n",
    "Age : {2}\n",
    "Education : {1}\n",
    "\"\"\".format(name, fname, age, education)\n",
    "print(card)\n"
   ]
  },
  {
   "cell_type": "markdown",
   "metadata": {},
   "source": [
    "## Recommended ways to concat string"
   ]
  },
  {
   "cell_type": "code",
   "execution_count": 1,
   "metadata": {},
   "outputs": [
    {
     "name": "stdout",
     "output_type": "stream",
     "text": [
      "\n",
      "PIAIC Student Card \n",
      "Name : Zeeshan\n",
      "Father Name : Aziz\n",
      "Age : 25\n",
      "Education : BSSE\n",
      "\n"
     ]
    }
   ],
   "source": [
    "name : str = \"Zeeshan\"\n",
    "fname : str = \"Aziz\"\n",
    "age : int = 25\n",
    "education : str = \"BSSE\"\n",
    "card: str = f\"\"\"\n",
    "PIAIC Student Card \n",
    "Name : {name}\n",
    "Father Name : {fname}\n",
    "Age : {age}\n",
    "Education : {education}\n",
    "\"\"\"\n",
    "print(card)"
   ]
  },
  {
   "cell_type": "code",
   "execution_count": null,
   "metadata": {},
   "outputs": [
    {
     "name": "stdout",
     "output_type": "stream",
     "text": [
      "\n",
      "PIAIC Student Card \n",
      "Name : Zeeshan\n",
      "Father Name : Aziz\n",
      "Age : 25\n",
      "Education : BSSE\n",
      "\n"
     ]
    }
   ],
   "source": [
    "name : str = \"Zeeshan\"\n",
    "fname : str = \"Aziz\"\n",
    "age : int = 25\n",
    "education : str = \"BSSE\"\n",
    "card: str = \"\"\"\n",
    "PIAIC Student Card \n",
    "Name : {a}\n",
    "Father Name : {b}\n",
    "Age : {c}\n",
    "Education : {d}\n",
    "\"\"\".format(a = name, b = fname, c = age, d = education)\n",
    "print(card)"
   ]
  },
  {
   "cell_type": "code",
   "execution_count": null,
   "metadata": {},
   "outputs": [
    {
     "name": "stdout",
     "output_type": "stream",
     "text": [
      "['capitalize', 'casefold', 'center', 'count', 'encode', 'endswith', 'expandtabs', 'find', 'format', 'format_map', 'index', 'isalnum', 'isalpha', 'isascii', 'isdecimal', 'isdigit', 'isidentifier', 'islower', 'isnumeric', 'isprintable', 'isspace', 'istitle', 'isupper', 'join', 'ljust', 'lower', 'lstrip', 'maketrans', 'partition', 'removeprefix', 'removesuffix', 'replace', 'rfind', 'rindex', 'rjust', 'rpartition', 'rsplit', 'rstrip', 'split', 'splitlines', 'startswith', 'strip', 'swapcase', 'title', 'translate', 'upper', 'zfill'] 47\n"
     ]
    }
   ],
   "source": [
    "name : str = \"     Zeeshan Aziz KHaN      \"\n",
    "lt : list[str] = [i for i in dir(name) if \"__\" not in i]\n",
    "print((lt),len(lt))"
   ]
  },
  {
   "cell_type": "code",
   "execution_count": null,
   "metadata": {},
   "outputs": [
    {
     "data": {
      "text/plain": [
       "'Zeeshan Aziz KHaN      '"
      ]
     },
     "execution_count": 24,
     "metadata": {},
     "output_type": "execute_result"
    }
   ],
   "source": [
    "name : str = \"     Zeeshan Aziz KHaN      \"\n",
    "name.lstrip()"
   ]
  },
  {
   "cell_type": "code",
   "execution_count": null,
   "metadata": {},
   "outputs": [
    {
     "data": {
      "text/plain": [
       "'     Zeeshan Aziz KHaN'"
      ]
     },
     "execution_count": 25,
     "metadata": {},
     "output_type": "execute_result"
    }
   ],
   "source": [
    "name : str = \"     Zeeshan Aziz KHaN      \"\n",
    "name.rstrip()"
   ]
  },
  {
   "cell_type": "code",
   "execution_count": null,
   "metadata": {},
   "outputs": [
    {
     "data": {
      "text/plain": [
       "'Zeeshan Aziz KHaN'"
      ]
     },
     "execution_count": 26,
     "metadata": {},
     "output_type": "execute_result"
    }
   ],
   "source": [
    "name : str = \"     Zeeshan Aziz KHaN      \"\n",
    "name.strip()"
   ]
  },
  {
   "cell_type": "code",
   "execution_count": null,
   "metadata": {},
   "outputs": [
    {
     "name": "stdout",
     "output_type": "stream",
     "text": [
      "Zeeshan Said: \"I am going collage\"\n",
      "Zeeshan Said: 'I am going collag'\n"
     ]
    }
   ],
   "source": [
    "name : str = 'Zeeshan Said: \"I am going collage\"'\n",
    "print(name)\n",
    "name : str = \"Zeeshan Said: 'I am going collag'\"\n",
    "print(name)"
   ]
  },
  {
   "cell_type": "code",
   "execution_count": null,
   "metadata": {},
   "outputs": [
    {
     "name": "stdout",
     "output_type": "stream",
     "text": [
      "Zeeshan Said: \"I am going collage\"\n"
     ]
    }
   ],
   "source": [
    "name : str = \"Zeeshan Said: \\\"I am going collage\\\"\"\n",
    "print(name)"
   ]
  },
  {
   "cell_type": "markdown",
   "metadata": {},
   "source": [
    "## Regex just an example"
   ]
  },
  {
   "cell_type": "code",
   "execution_count": 21,
   "metadata": {},
   "outputs": [],
   "source": [
    "chat: str = \"\"\"\n",
    "09:04:40 From Gulshan Ali To Everyone : aoa Sir fine tnx\n",
    "09:05:10 From Gulshan Ali To Everyone : Gulshan Ali PIAIC176719\n",
    "09:05:29 From Usman Noor PIAIC-188401 To Everyone : PIAIC188401\n",
    "09:05:41 From Gulshan Ali To Everyone : ham ne OOP start krna tha\n",
    "09:06:03 From Amir Rashid To Everyone : PIAIC107890\n",
    "09:06:07 From PIAIC183349 Muahhamd Waseem To Everyone : PIAIC183349\n",
    "09:06:08 From Mohammad Javed To Everyone : PIAIC185754\n",
    "09:06:26 From Muhammad Faizan To Everyone : piaic172328\n",
    "09:06:38 From PIAIC 177535 To Everyone : PIAIC 177535\n",
    "09:06:56 From Faheem PIAIC90418 To Everyone : PIAIC90418\n",
    "09:07:16 From Akbar Ali To Everyone : PIAIC168636\n",
    "09:07:21 From Sabir Zafar To Everyone : Muhammad Sabir Zafar - PIAIC182023\n",
    "09:07:26 From Muhammad’s iPhone To Everyone : PIAIC49583\n",
    "09:08:03 From Zeeshan Asim : PIAIC55300 To Everyone : Zeeshan Asim Khan - PIAIC55300\n",
    "09:08:15 From Shoaib PIAIC178354 To Everyone : Shoaib PIAIC178354\n",
    "09:08:36 From Zaki To Everyone : PIAIC 172541\n",
    "09:08:36 From Kabeer Rajput To Everyone : PIAIC133488\n",
    "09:08:39 From Humera Naz To Everyone : PIAIC 173431\n",
    "09:09:10 From Sabir Zafar To Everyone : PIAIC182023\n",
    "09:09:47 From assad mahmood (PIAIC179144) To Everyone : PIAIC179144\n",
    "09:13:08 From PIAIC172478 To Everyone : PIAIC172478\n",
    "09:14:19 From Neelum Javaid 172527 To Everyone : Neelum Javaid PIAIC172527\n",
    "09:14:47 From Nida yaseen 183444 To Everyone : PIAIC183444\n",
    "09:14:56 From Abdul rafiu To Everyone : Abdul Rafiu (PIAIC164489)\n",
    "09:15:12 From Syed Jawad [PIAIC185558] To Everyone : PIAIC185558\n",
    "09:15:34 From Nida yaseen 183444 To Everyone : Nida yaseen (PIAIC 183444)\n",
    "09:16:32 From Uzair Ullah To Everyone : PIAIC169405\n",
    "09:16:58 From Muhammad Furqan To Everyone : PIAIC183270\n",
    "09:17:01 From Kashif To Everyone : Kashif - PIAIC181638\n",
    "09:17:10 From Muhammad Furqan To Everyone : Assalam o Alaikum\n",
    "09:17:35 From Mohammad Idrees To Everyone : PIAIC74182\n",
    "09:17:40 From Nadeem ali Jamro PIAIC166522 To Everyone : PIAIC - 166522\n",
    "09:18:26 From Aneeq To Everyone : PIAIC172924 Aneeq Ahmad\n",
    "09:18:43 From Maaz-PIAIC182239 To Everyone : PIAIC182239\n",
    "09:18:44 From Syed Jawad [PIAIC185558] To Everyone : meow krna\n",
    "09:19:00 From Irfan Ahmed To Everyone : PIAIC183459 Irfan Ahmed\n",
    "09:19:18 From Noman Saleem Khan PIAIC131844 To Everyone : Noman Saleem Khan\n",
    "09:19:19 From Irfan Ahmed To Everyone : PIAIC183459\n",
    "09:19:40 From Noman Saleem Khan PIAIC131844 To Everyone : PIAIC-131844\n",
    "09:20:34 From Muhammad Faizan To Everyone : communication krna\n",
    "09:21:25 From Muhammad Faizan To Everyone : phone call send and receive action\n",
    "09:21:49 From Muhammad Faizan To Everyone : model no , color , battery specifification, ram , rom\n",
    "09:23:57 From ABDULBASIT 59115 To Everyone : PIAIC 59115\n",
    "09:24:49 From Junaid Ali Bhatti To Everyone : PIAIC174125\n",
    "09:24:57 From vivo 1901 To Everyone : PIAIC74287 Atif Aziz\n",
    "09:25:43 From Noman Ali PIAIC 180111 To Everyone : PIAIC180111\n",
    "09:25:59 From Muhammad Sadullah - PIAIC178950 To Everyone : PIAIC178950\n",
    "09:27:32 From Rabiya Raees To Everyone : PIAIC188259\n",
    "09:27:51 From Sehrish Fatima To Everyone : PIAIC174229\n",
    "09:28:11 From Syed Sajjad Hussain PIAIC152592 To Everyone : PIAIC152592\n",
    "09:31:18 From Taqwa Khaliq To Everyone : voice break\n",
    "09:32:00 From Rafay Ali PIAIC174462 To Everyone : PIAIC174462\n",
    "09:32:19 From Abdullah Arif 129260 To Everyone : PIAIC 129260\n",
    "09:32:29 From Muhammad Furqan(PIAIC183270) To Everyone : PIAIC183270\n",
    "09:33:22 From Muhammad Faizan To Everyone : sir screen stuck heh\n",
    "09:33:26 From اسامه سلفى PIAIC91925 To Everyone : PIAIC91925\n",
    "09:34:16 From Usman To Everyone : name, roll no, marks\n",
    "09:35:10 From M. ADNAN SAEED, PIAIC 174751 To Everyone : M. ADNAN SAEED PIAIC 174751\n",
    "09:35:40 From LITTLE SPARROW To Everyone : ASIF ALI\n",
    "09:35:41 From Adnan Ul Haq (PIAIC-103786) To Everyone : PIAIC-103786\n",
    "09:35:44 From Humera Naz To Everyone : PIAIC 173431\n",
    "09:35:44 From Ahmad Mudassar PIAIC113830 To Everyone : Ahmad Mudassar PIAIC113830\n",
    "09:36:39 From Safeer 139339 To Everyone : PIAIC139339\n",
    "09:36:39 From Agha ALi PIAIC164763 To Everyone : PIAIC164763\n",
    "09:36:41 From Talha Munir To Everyone : PIAIC173761\n",
    "09:37:30 From PIAIC103761 To Everyone : PIAIC103761\n",
    "09:40:02 From Asim Sharif PIAIC 172797 To Everyone : PISIC172797\n",
    "09:40:38 From kashif.parvez To Everyone : Kashif PIAIC101207\n",
    "09:41:17 From Maah Noor PIAIC168751 To Everyone : PIAIC168751\n",
    "09:42:54 From Syed PIAIC168703 To Everyone : PIAIC168703\n",
    "09:43:39 From Irfan Ahmed To Everyone : PIAIC172147\n",
    "09:44:01 From Moeed Masood PIAIC185253 To Everyone : PIAIC185253\n",
    "09:44:31 From Muhammad Saad To Everyone : PIAIC172478\n",
    "09:45:56 From Salman Nayyer To Everyone : Salman NayyerPIAIC180996\n",
    "09:47:00 From Jawad Mehmood To Everyone : PIAIC172631\n",
    "09:47:27 From PIAIC183459 Irfan Ahmed To Everyone : PIAIC183459\n",
    "09:48:36 From PIAIC149101 sana To Everyone : PIAIC149101\n",
    "09:50:26 From Saeed To Everyone : PIAIC131885\n",
    "09:50:27 From Adnan Ul Haq (PIAIC-103786) To Everyone : What's the difference BTW variable and attribute?\n",
    "09:50:57 From Muhammad Sarim Effendi To Everyone : PIAIC188720\n",
    "09:51:33 From Afnan 182978 To Everyone : Piaic-187928\n",
    "09:52:23 From SadafMansoor PIAIC84989 To Everyone : PIAIC84989\n",
    "09:52:29 From Adil Naveed PIAIC167854 To Everyone : parenthesis are mandatory or optional?\n",
    "09:52:40 From (PIAIC-189416) Muhammad Murtaza Khan To Everyone : PIAIC189416\n",
    "09:55:42 From Adil Naveed PIAIC167854 To Everyone : class name ke baad parenthesis are mandatory or optional?\n",
    "09:57:10 From Ahmad Mudassar PIAIC113830 To Everyone : is this same like making type in type script\n",
    "10:00:05 From arijraees To Everyone : PIAIC186180\n",
    "10:01:32 From Haider Ali-PIAIC179345 To Everyone : PIAIC179345\n",
    "10:02:52 From Faizan Muhammad To Everyone : PIAIC189427\n",
    "10:03:08 From Maha Ilyas 2874 To Everyone : PIAIC 177982\n",
    "10:04:06 From Kashif Khan To Everyone : PIAIC 143001\n",
    "10:04:45 From PIAIC183459 Irfan Ahmed To Everyone : PIAIC183459\n",
    "10:04:56 From Mohsin Naseer PIAIC68513 To Everyone : PIAIC68513\n",
    "10:05:45 From Sadia To Everyone : Piaic180028\n",
    "10:05:55 From Muhammad Farhan Ahsan PIAIC-168894 To Everyone : PIAIC168894\n",
    "10:08:10 From Raashid To Everyone : PIAIC55486\n",
    "10:08:42 From Abu Bakar To Everyone : PIAIC50303\n",
    "10:09:51 From Muhammad Zeeshan Anjum To Everyone : PIAIC78589\n",
    "10:11:18 From Hifza Ansari To Everyone : 7\n",
    "10:11:52 From Muhammad Shahid To Everyone : PIAIC005259\n",
    "10:14:36 From PIAIC181896 To Everyone : PIAIC 181896\n",
    "10:14:46 From PIAIC173701_Taqwa Khaliq To Everyone : PIAIC_173701\n",
    "Taqwa Khaliq\n",
    "10:15:01 From Irfan Ahmed - (PIAIC178547) To Everyone : PIAIC178547\n",
    "10:16:46 From Usman To Everyone : can someone share WhatsApp group\n",
    "10:16:52 From Hifza Ansari To M.Qasim(Teacher)(Privately) : why we are using constructor?\n",
    "10:18:41 From Hasnain Munir To Everyone : 03453180436\n",
    "10:18:48 From Hasnain Munir To Everyone : admin number\n",
    "10:19:19 From Kainat PIAIC182352 To Everyone : for which group?\n",
    "10:19:33 From Hasnain Munir To Everyone : piaic\n",
    "10:19:37 From Usman To Everyone : AIC group\n",
    "10:19:40 From Kainat PIAIC182352 To Everyone : sorry mera net chala gya tha so mjhe ni ptq\n",
    "10:25:29 From Ali Raza To Everyone : PIAIC62922\n",
    "10:26:46 From Muhammad Adrees To Everyone : PIAIC74182\n",
    "10:27:50 From Zeenat Zakir: Piaic 133802 To Everyone : PIAIC133802\n",
    "10:31:06 From Safeer 139339 To Everyone : PIAIC 139339\n",
    "10:32:46 From Shahid PIAIC134239 To Everyone : PIAIC134239 Muhammed Shahid\n",
    "10:36:33 From Ali Azam-PIAIC66597 To Everyone : PIAIC66597\n",
    "10:37:10 From Hamza To Everyone : PIAIC173652\n",
    "10:38:57 From Majid Naru PIAIC-187644 To Everyone : PIAIC187644\n",
    "10:39:01 From ASIF ALI To Everyone : ASIF ALIPIAIC183730\n",
    "10:39:44 From Irfan Ahmed - (PIAIC178547) To Everyone : method ignore ho giya hai\n",
    "10:39:52 From Ansar Aziz To Everyone : Ansar ~ PIAIC187265\n",
    "10:44:42 From Faisal Bashir To Everyone : PIAIC177802\n",
    "10:44:46 From muhammad.naveed To Everyone : PIAIC133985\n",
    "10:45:05 From Musa Abkr To Everyone : PIAIC116498\n",
    "10:46:09 From Aqeel-PIAIC116364 To M.Qasim(Teacher)(Privately) : Assalam o Aikum Sir,am your student for AI (allocated slot Saterday)same time CN class also,i've sent multipal emails to Education@piaic but no response.can i continue this class, and will be mark as present?\n",
    "10:46:20 From Hasnain Munir To Everyone : PIAIC187272\n",
    "10:46:57 From Azhar Piaic179898 To Everyone : Azhar Piaic179898\n",
    "10:47:39 From PIAIC183459 Irfan Ahmed To Everyone : PIAIC183459\n",
    "10:48:18 From Saeed To Everyone : Assalaamualikum , Sir, please take attendance around 11:45 as I have to leave for another class\n",
    "10:49:10 From Muhammad’s iPhone To Everyone : PIAIC49583\n",
    "10:51:47 From Mohammad Javed To Everyone : PIAIC185754\n",
    "10:52:11 From M. ADNAN SAEED, PIAIC 174751 To Everyone : PIAIC174151\n",
    "10:52:54 From Syed Amir PIAIC128409 To Everyone : PIAIC128409\n",
    "10:55:14 From Humera Naz To Everyone : PIAIC 173431\n",
    "10:55:25 From Irfan Ahmed - (PIAIC178547) To Everyone : sir voice\n",
    "10:55:45 From PIAIC183459 Irfan Ahmed To Everyone : PIAIC183459\n",
    "10:55:56 From Dr. Engr. Bhagwan Das To Everyone : PIAIC96879\n",
    "10:58:14 From Ali Raza To Everyone : PIAIC62922\n",
    "11:00:23 From PIAIC183459 Irfan Ahmed To Everyone : PIAIC183459\n",
    "11:01:06 From Saeed To Everyone : PIAIC131885\n",
    "11:01:31 From PIAIC172478 To Everyone : PIAIC172478\n",
    "11:02:18 From (PIAIC-189416) Muhammad Murtaza Khan To Everyone : PIAIC189416\n",
    "11:04:41 From Shoaib Ahmed Khan To Everyone : PIAIC159833\n",
    "11:05:12 From Irfan Ahmed - (PIAIC178547) To Everyone : 11:05\n",
    "11:05:16 From Ashraf Makhdoom Syed To Everyone : 10:05 AM\n",
    "11:05:17 From Nadeem ali Jamro PIAIC166522 To Everyone : 11:05\n",
    "11:05:19 From Muhammad Furqan(PIAIC183270) To Everyone : 11:05\n",
    "11:05:19 From syed ibad ur rehman To Everyone : 11\n",
    "11:05:21 From SHEHZAD PIAIC180057 To Everyone : 11:05\n",
    "11:05:21 From Muhammad’s iPhone To Everyone : 07:05am\n",
    "11:05:22 From Amir Rashid To Everyone : \"\n",
    "11:05:24 From Nadeem Hussain Koondhar To Everyone : 1105\n",
    "11:05:26 From Asif Rehman PIAIC93717 To Everyone : same\n",
    "11:05:26 From M. ADNAN SAEED, PIAIC 174751 To Everyone : 11:05\n",
    "11:05:28 From Maha Ilyas 2874 To Everyone : 11:05\n",
    "11:05:29 From Usman Noor PIAIC-188401 To Everyone : 11:5\n",
    "11:05:31 From Usman To Everyone : 09:00\n",
    "11:05:31 From Mohammad Javed To Everyone : 11:06\n",
    "11:05:32 From Agha ALi PIAIC164763 To Everyone : 11,05am\n",
    "11:05:32 From Gulshan Ali To Everyone : 11:05\n",
    "11:05:34 From PIAIC149101 sana To Everyone : 11:05\n",
    "11:05:34 From khurshed To Everyone : 4:05\n",
    "11:05:42 From Dr. Engr. Bhagwan Das To Everyone : 11:05\n",
    "11:05:49 From Abdul Qadar To Everyone : 11:05\n",
    "11:05:51 From Muhammad Faizan To Everyone : 8:5 am  germany\n",
    "11:05:59 From Muhammad Sadullah - PIAIC178950 To Everyone : 10:05 AM UAE\n",
    "11:06:02 From PIAIC181896 To Everyone : 11:05\n",
    "11:07:42 From Irfan Ahmed - (PIAIC178547) To Everyone : voice?\n",
    "11:08:01 From Homesaira mehmood To Everyone : piaic176439\n",
    "11:08:16 From Haseeb Iqbal -PIAIC 180144 To Everyone : Haseeb Iqbal PIAIC-180144\n",
    "11:08:21 From Mohammad Javed To Everyone : 52 min\n",
    "11:08:25 From Homesaira mehmood To Everyone : PIAIC176439\n",
    "11:08:34 From Saad Aslam To Everyone : PIAIC187831\n",
    "11:08:34 From ASIF ALI To Everyone : ASIF ALIPIAIC183730\n",
    "11:08:40 From PIAIC183459 Irfan Ahmed To Everyone : PIAIC183459\n",
    "11:08:40 From PIAIC149101 sana To Everyone : zero\n",
    "11:09:07 From Qayyum PIAIC178438 To Everyone : PIAIC178438\n",
    "11:11:52 From PIAIC172478 To Everyone : PIAIC172478\n",
    "11:13:18 From Hamna Sheikh To Everyone : PIAIC172946\n",
    "11:13:28 From PIAIC 177535 To Everyone : PIAIC 177535\n",
    "11:14:03 From Muhammad Faizan To Everyone : PIAIC 188687\n",
    "11:14:12 From Usman Noor PIAIC-188401 To Everyone : PIAIC188401\n",
    "11:15:38 From Umer Ghaffar PIAIC184298 To Everyone : PIAIC184298\n",
    "11:18:58 From Hassan Ahmed To Everyone : Hassan Ahmed - 180148\n",
    "11:20:10 From PIAIC183459 Irfan Ahmed To Everyone : PIAIC183459\n",
    "11:20:46 From Muhammad Athar To Everyone : PIAIC174016\n",
    "11:21:13 From Umer Ghaffar PIAIC184298 To Everyone : PIAIC184298\n",
    "11:21:26 From PIAIC133985 Muhammad Naveed To Everyone : PIAIC133985\n",
    "11:21:48 From Qadeer Ahmed To Everyone : PIAIC163577\n",
    "11:22:22 From Sadia To Everyone : Piaic180028\n",
    "11:22:50 From Rabiya Raees_PIAIC 188259 To Everyone : PIAIC188259\n",
    "11:23:25 From Salma Asif To Everyone : PIAIC176945\n",
    "11:23:44 From PIAIC183459 Irfan Ahmed To Everyone : PIAIC183459\n",
    "11:23:48 From Salman Nayyer To Everyone : PIAIC180996\n",
    "11:24:34 From Taqwa Khaliq To Everyone : PIAIC_173701\n",
    "Taqwa Khaliq\n",
    "11:25:04 From Azhar Piaic179898 To Everyone : Azhar Piaic179898\n",
    "11:26:33 From Kashif To Everyone : Counter tells us that how many students registered in the class\n",
    "11:27:11 From Muhammad Sheraz-PIAIC68522 To Everyone : PIAIC68522\n",
    "11:27:19 From Muhammad Sheraz-PIAIC68522 To Everyone : PIAIC68522\n",
    "11:27:25 From Mohammad Javed To Everyone : PIAIC185754\n",
    "11:27:26 From Imran Ahmed To Everyone : Imran Ahmed_PIAIC95846\n",
    "11:27:30 From Saeed To Everyone : PIAIC-131885\n",
    "11:28:11 From 187118 Muhammad Imran Wali To Everyone : PIAIC187118\n",
    "11:28:14 From Muhammad Sheraz-PIAIC68522 To Everyone : PIAIC68522\n",
    "11:29:12 From Shoaib PIAIC-178354 To Everyone : Shoaib PIAIC178354\n",
    "11:29:25 From Muhammad Sadullah - PIAIC178950 To Everyone : PIAIC178950\n",
    "11:29:28 From Fareeha To Everyone : PIAIC142650\n",
    "11:29:44 From Muhammad Sheraz-PIAIC68522 To Everyone : PIAIC68522\n",
    "11:30:03 From Asif Rehman PIAIC93717 To Everyone : Asif Rehman PIAIC93717\n",
    "11:30:40 From Hasnain Munir To Everyone : PIAIC187272\n",
    "11:30:43 From Ureb Ahmad To Everyone : PIAIC-172235 Ureb Ahmad\n",
    "11:30:48 From Umer Ghaffar PIAIC184298 To Everyone : PIAIC184298\n",
    "11:31:13 From Dr. Engr. Bhagwan Das To Everyone : PIAIC96879\n",
    "11:32:12 From Abdullah Arif 129260 To Everyone : PIAIC129260\n",
    "11:32:21 From Saeed To Everyone : how to read and edit excel files??\n",
    "11:32:29 From Hifza Ansari To M.Qasim(Teacher)(Privately) : PIAIC177625\n",
    "11:32:38 From Mashal Zahra To Everyone : PIAIC178751\n",
    "11:32:40 From Hifza Ansari To Everyone : PIAIC177625\n",
    "11:32:45 From Muhammad Sheraz-PIAIC68522 To Everyone : PIAIC68522\n",
    "11:32:54 From Ahmad Mudassar PIAIC113830 To Everyone : when is the quiz\n",
    "11:33:11 From Saeed To Everyone : 29/30 sep\n",
    "11:33:24 From Ahmad Mudassar PIAIC113830 To Everyone : ok thankyou\n",
    "11:33:33 From Muhammad Sheraz-PIAIC68522 To Everyone : PIAIC68522\n",
    "11:33:33 From PIAIC183459 Irfan Ahmed To Everyone : PIAIC183459\n",
    "11:33:38 From Humera Naz To Everyone : PIAIC 173431\n",
    "11:33:41 From Saeed To Everyone : for AI, for CNC-27/28\n",
    "11:33:48 From Ali Raza To Everyone : PIAIC62922\n",
    "11:33:56 From Muhammad Uzair-177637 To Everyone : PIAIC177637\n",
    "11:33:59 From PIAIC183459 Irfan Ahmed To Everyone : PIAIC183459\n",
    "11:34:08 From PIAIC183459 Irfan Ahmed To Everyone : PIAIC183459\n",
    "11:34:08 From Saeed To Everyone : PIAIC131885\n",
    "11:34:09 From Syed Amir PIAIC128409 To Everyone : PIAIC128409\n",
    "11:34:12 From Huzaifa Tahir PIAIC-60925 To Everyone : PIAIC60925\n",
    "11:34:14 From Maaz-PIAIC182239 To Everyone : PIAIC182239\n",
    "11:34:14 From Assad Mahmood (PIAIC179144) To Everyone : PIAIC179144\n",
    "11:34:16 From Kabeer Rajput To Everyone : PIAIC133488\n",
    "11:34:17 From Talha Munir To Everyone : PIAIC173761\n",
    "11:34:18 From Amir Rashid To Everyone : PIAIC107890\n",
    "11:34:18 From Shoaib Ahmed Khan To Everyone : PIAIC159833\n",
    "11:34:19 From Muhammad Furqan(PIAIC183270) To Everyone : PIAIC183270\n",
    "11:34:19 From Syed Jawad [PIAIC185558] To Everyone : PIAIC185558\n",
    "11:34:20 From Agha ALi PIAIC164763 To Everyone : PIAIC164763\n",
    "11:34:20 From Muhammad Sadullah - PIAIC178950 To Everyone : PIAIC178950\n",
    "11:34:20 From PIAIC175636 - M. Ziad Khan To Everyone : PIAIC175636\n",
    "11:34:21 From arijraees To Everyone : PIAIC186180\n",
    "11:34:21 From Taqwa Khaliq To Everyone : PIAIC_173701\n",
    "11:34:22 From Akbar Ali To Everyone : PIAIC168636\n",
    "11:34:22 From Dr. Engr. Bhagwan Das To Everyone : PIAIC96879\n",
    "11:34:23 From Sehrish Fatima To Everyone : PIAIC174229\n",
    "11:34:24 From Assad Mahmood (PIAIC179144) To Everyone : PIAIC179144\n",
    "11:34:24 From Sadia To Everyone : piaic180028\n",
    "11:34:24 From (PIAIC-189416) Muhammad Murtaza Khan To Everyone : PIAIC189416\n",
    "11:34:24 From Wajeeha Ayaz To Everyone : PIAIC 175646\n",
    "11:34:25 From Ahmad Mudassar PIAIC113830 To Everyone : PIAIC113830\n",
    "11:34:25 From GSTAR GROUP To Everyone : PIAIC172332\n",
    "11:34:26 From M. ADNAN SAEED, PIAIC 174751 To Everyone : PIAIC174751\n",
    "11:34:26 From ASIF ALI To Everyone : ASIF ALIPIAIC183730\n",
    "11:34:27 From Maah Noor PIAIC168751 To Everyone : PIAIC168751\n",
    "11:34:27 From Humera Naz To Everyone : PIAIC 173431\n",
    "11:34:27 From Raashid To Everyone : PIAIC55486\n",
    "11:34:27 From Mashal Zahra To Everyone : PIAIC178751\n",
    "11:34:27 From Nadeem ali Jamro PIAIC166522 To Everyone : PIAIC166522\n",
    "11:34:28 From Muneeb(PIAIC173219) To Everyone : PIAIC173219\n",
    "11:34:28 From Uzair Ullah To Everyone : PIAIC169405\n",
    "11:34:29 From Ashraf Makhdoom Syed To Everyone : Syed Makhdoom Ahmed Ashraf PIAIC155482\n",
    "11:34:29 From Adnan Ul Haq (PIAIC-103786) To Everyone : PIAIC103786\n",
    "11:34:29 From Dr. Engr. Bhagwan Das To Everyone : PIAIC96879\n",
    "11:34:30 From Afrooz Alam (PIAIC89531) To Everyone : PIAIC89531\n",
    "11:34:30 From Muhammad Adrees To Everyone : PIAIC74182\n",
    "11:34:31 From SHEHZAD PIAIC180057 To Everyone : PIAIC180057\n",
    "11:34:32 From Sm To Everyone : PIAIC176439\n",
    "11:34:32 From Saad PIAIC174416 To Everyone : PIAIC174416\n",
    "11:34:32 From Mohammad Javed To Everyone : PIAIC185754\n",
    "11:34:33 From 133544-Matee To Everyone : PIAIC133544\n",
    "11:34:33 From Irfan Ahmed - (PIAIC178547) To Everyone : PIAIC178547\n",
    "11:34:33 From PIAIC149101 sana To Everyone : PIAIC149101 SANA NOUSHEEN\n",
    "11:34:35 From Aqeel-PIAIC116364 To Everyone : PIAIC116364\n",
    "11:34:36 From Syed Sajjad Hussain PIAIC152592 To Everyone : PIAIC152592\n",
    "11:34:38 From Afrooz Alam (PIAIC89531) To Everyone : PIAIC89531\n",
    "11:34:38 From Usman Noor PIAIC-188401 To Everyone : PIAIC188401\n",
    "11:34:39 From Ali Raza To Everyone : PIAIC62922\n",
    "11:34:40 From Mashal Zahra To Everyone : PIAIC178751\n",
    "11:34:41 From Ashraf Makhdoom Syed To Everyone : PIAIC155482\n",
    "11:34:41 From 187118 Muhammad Imran Wali To Everyone : PIAIC187118\n",
    "11:34:42 From Fareeha To Everyone : PIAIC142650\n",
    "11:34:43 From Saeed To Everyone : PIAIC131885\n",
    "11:34:43 From Salma Asif To Everyone : PIAIC176945\n",
    "11:34:44 From Asif Rehman PIAIC93717 To Everyone : Asif Rehman PIAIC93717\n",
    "11:34:44 From Jawad Ahmed PIAIC96020 To Everyone : PIAIC96020\n",
    "11:34:44 From Gulshan Ali To Everyone : PIAIC176719\n",
    "11:34:45 From Aneeq To Everyone : PIAIC172924\n",
    "11:34:45 From Aisha Siddiqua To Everyone : PIAIC181221\n",
    "11:34:46 From 133544-Matee To Everyone : PIAIC133544\n",
    "11:34:47 From PIAIC175636 - M. Ziad Khan To Everyone : PIAIC175636\n",
    "11:34:50 From Adil Naveed PIAIC167854 To Everyone : PIAIC167854\n",
    "11:34:50 From Kabeer Rajput To Everyone : PIAIC133488\n",
    "11:34:50 From Zeeshan Asim : PIAIC55300 To Everyone : PIAIC55300 - Zeeshan Asim\n",
    "11:34:50 From Muhammad Uzair-177637 To Everyone : PIAIC177637\n",
    "11:34:51 From Saad Aslam To Everyone : PIAIC187831\n",
    "11:34:51 From Mohsin Naseer PIAIC68513 To Everyone : PIAIC68513\n",
    "11:34:51 From Assad Mahmood (PIAIC179144) To Everyone : PIAIC179144\n",
    "11:34:51 From Salman Nayyer To Everyone : PIAIC180996\n",
    "11:34:51 From Zaki To Everyone : PIAIC 172541\n",
    "11:34:52 From syed ibad ur rehman To Everyone : PIAIC166678\n",
    "11:34:52 From Talha Munir To Everyone : PIAIC173761\n",
    "11:34:53 From Haider Ali-PIAIC179345 To Everyone : PIAIC179345\n",
    "11:34:54 From Amir Rashid To Everyone : PIAIC107890\n",
    "11:34:55 From Muhammad Sadullah - PIAIC178950 To Everyone : PIAIC178950\n",
    "11:34:55 From Muhammad’s iPhone To Everyone : PIAIC49583\n",
    "11:34:56 From Zeenat Zakir: Piaic 133802 To Everyone : PIAIC133802\n",
    "11:34:56 From Irfan Ahmed To Everyone : PIAIC172147\n",
    "11:34:56 From PIAIC181896 To Everyone : PIAIC181896\n",
    "11:34:57 From PIAIC183459 Irfan Ahmed To Everyone : PIAIC183459\n",
    "11:34:58 From Yousaf-PIAIC173795 To Everyone : PIAIC173795\n",
    "11:34:59 From Irfan Ahmed To Everyone : PIAIC172147\n",
    "11:34:59 From PIAIC 177535 To Everyone : PIAIC 177535\n",
    "11:35:00 From Qadeer Ahmed To Everyone : PIAIC163577\n",
    "11:35:02 From Syed PIAIC168703 To Everyone : PIAIC168703\n",
    "11:35:03 From Uzair Ullah To Everyone : PIAIC169405\n",
    "11:35:05 From Sehrish Fatima To Everyone : PIAIC174229\n",
    "11:35:05 From Syed Sajjad Hussain PIAIC152592 To Everyone : PIAIC152592\n",
    "11:35:05 From Mohammad Javed To Everyone : PIAIC185754\n",
    "11:35:05 From Syed Jawad [PIAIC185558] To Everyone : PIAIC185558\n",
    "11:35:05 From syed ibad ur rehman To Everyone : PIAIC166678\n",
    "11:35:07 From Rabiya Raees_PIAIC 188259 To Everyone : PIAIC188259\n",
    "11:35:07 From Imran Khalid PIAIC185636 To Everyone : yes\n",
    "11:35:08 From ASIF ALI To Everyone : ASIF ALIPIAIC183730\n",
    "11:35:09 From Akbar Ali To Everyone : PIAIC168636\n",
    "11:35:09 From PIAIC183459 Irfan Ahmed To Everyone : PIAIC183459\n",
    "11:35:09 From Muneeb(PIAIC173219) To Everyone : PIAIC173219\n",
    "11:35:09 From Hasnain Munir To Everyone : PIAIC187272\n",
    "11:35:10 From Salma Asif To Everyone : PIAIC176945\n",
    "11:35:11 From PIAIC-99685 To Everyone : PIAIC-99685\n",
    "11:35:12 From Sm To Everyone : PIAIC176439\n",
    "11:35:13 From Huzaifa Tahir PIAIC-60925 To Everyone : PIAIC60925\n",
    "11:35:13 From Muhammad Hawaris To Everyone : PIAIC188433\n",
    "11:35:15 From Nadeem Hussain Koondhar To Everyone : PIAIC-182905\n",
    "11:35:15 From Haseeb Iqbal -PIAIC 180144 To Everyone : Haseeb Iqbal PIAIC-180144\n",
    "11:35:16 From Abdul Saboor Zaman To Everyone : PIAIC189261\n",
    "11:35:18 From PIAIC183459 Irfan Ahmed To Everyone : PIAIC183459\n",
    "11:35:18 From Shahid PIAIC134239 To Everyone : PIAIC134239 Muhammed Shahid\n",
    "11:35:19 From daud To Everyone : PIAIC173579\n",
    "11:35:19 From syed ibad ur rehman To Everyone : PIAIC166678\n",
    "11:35:19 From Muhammad Owais To Everyone : Name: MUHAMMAD OWAISRoll No: PIAIC139392\n",
    "11:35:21 From Shoaib Ahmed Khan To Everyone : PIAIC159833\n",
    "11:35:23 From Adil Naveed PIAIC167854 To Everyone : PIAIC167854\n",
    "11:35:23 From Agha ALi PIAIC164763 To Everyone : PIAIC164763\n",
    "11:35:23 From Muhammad Adrees To Everyone : PIAIC74182\n",
    "11:35:24 From Aisha Siddiqua To Everyone : PIAIC181221\n",
    "11:35:27 From Muhammad Ashraf To Everyone : PIAC 179123\n",
    "11:35:28 From Naeem Balagam To Everyone : IOT045587\n",
    "11:35:31 From Abdul Qadar To Everyone : PIAIC172941\n",
    "11:35:32 From Muhammad Owais To Everyone : Name: MUHAMMAD OWAISRoll No: PIAIC139392\n",
    "11:35:33 From khurshed To Everyone : PIAIC157450\n",
    "11:35:33 From Hasnain Munir To Everyone : PIAIC187272\n",
    "11:35:33 From Maha Ilyas 2874 To Everyone : PIAIC 177982\n",
    "11:35:36 From Muhammad Sadullah - PIAIC178950 To Everyone : PIAIC178950\n",
    "11:35:38 From PIAIC149101 sana To Everyone : PIAIC149101\n",
    "11:35:40 From Nehal To Everyone : PIAIC182641\n",
    "11:35:41 From Muhammad Faizan To Everyone : piaic 172328\n",
    "11:35:43 From Mohammad Javed To Everyone : Piaic185754\n",
    "11:35:45 From 187118 Muhammad Imran Wali To Everyone : PIAIC187118\n",
    "11:35:45 From Salman Nayyer To Everyone : Piaic180996\n",
    "11:35:45 From Afnan 182978 To Everyone : PIAIC 182978\n",
    "11:35:47 From (PIAIC-189416) Muhammad Murtaza Khan To Everyone : PIAIC189416\n",
    "11:35:52 From Ali Raza To Everyone : PIAIC 62922\n",
    "11:35:55 From Kashif To Everyone : PIAIC181638\n",
    "11:35:57 From M. ADNAN SAEED, PIAIC 174751 To Everyone : 143001\n",
    "11:36:01 From Muhammad Faizan To Everyone : PIAIC172328\n",
    "11:36:08 From Muhammad Ashraf To Everyone : PIAIC179123\n",
    "11:36:08 From Mohammad Javed To Everyone : Piaic185754\n",
    "11:36:09 From PIAIC183459 Irfan Ahmed To Everyone : PIAIC183459\n",
    "11:36:10 From Muhammad Sarim Effendi To Everyone : PIAIC188720\n",
    "11:36:10 From Hassan Ahmed - PIAIC 180148 To Everyone : Hassan Ahmed PIAIC 180148\n",
    "11:36:18 From 1998 To Everyone : PIAIC 99685\n",
    "11:36:19 From PIAIC133985 Muhammad Naveed To Everyone : PIAIC133985\n",
    "11:36:20 From Muhammad Sarim Effendi To Everyone : PIAIC187258\n",
    "11:36:22 From vivo 1901 To Everyone : PIAIC74287\n",
    "11:36:25 From Nida yaseen 183444 To Everyone : Nida yaseen PIAIC 183444\n",
    "11:36:28 From Neelum Javaid 172527 To Everyone : PIAIC172527\n",
    "11:36:32 From Jawad Ahmed PIAIC96020 To Everyone : PIAIC96020\n",
    "11:36:35 From PIAIC133985 Muhammad Naveed To Everyone : PIAIC133985\n",
    "11:36:38 From Umer Ghaffar PIAIC184298 To Everyone : PIAIC184298\n",
    "11:36:39 From Imran Khalid PIAIC185636 To Everyone : PIAIC185636\n",
    "11:36:42 From Mohammad Javed To Everyone : sir not yet\n",
    "11:36:49 From 1998 To Everyone : PIAIC 99685\n",
    "11:36:54 From TechSupport.OOBCon To Everyone : piaic185122 shehzad\n",
    "11:36:55 From Neelum Javaid 172527 To Everyone : Neelum Javaid PIAIC 172527\n",
    "11:36:58 From Moeed Masood PIAIC185253 To Everyone : PIAIC185253\n",
    "11:37:03 From Mohammad Javed To Everyone : Piaic185754\n",
    "11:37:06 From Majid Naru PIAIC-187644 To Everyone : PIAIC187644\n",
    "11:37:10 From cz 3 To Everyone : PIAIC12356\n",
    "11:37:26 From PIAIC183459 Irfan Ahmed To Everyone : PIAIC183459\n",
    "11:38:05 From Azhar Piaic179898 To Everyone : Azhar Piaic179898\n",
    "11:38:13 From Kainat PIAIC182352 To Everyone : PIAIC182352\n",
    "\n",
    "\"\"\"\n",
    "\n"
   ]
  },
  {
   "cell_type": "code",
   "execution_count": 22,
   "metadata": {},
   "outputs": [
    {
     "data": {
      "text/plain": [
       "[('09:05:29', 'Usman Noor PIAIC-188401', 'PIAIC188401'),\n",
       " ('09:06:03', 'Amir Rashid', 'PIAIC107890'),\n",
       " ('09:06:07', 'PIAIC183349 Muahhamd Waseem', 'PIAIC183349'),\n",
       " ('09:06:08', 'Mohammad Javed', 'PIAIC185754'),\n",
       " ('09:06:38', 'PIAIC 177535', 'PIAIC 177535'),\n",
       " ('09:06:56', 'Faheem PIAIC90418', 'PIAIC90418'),\n",
       " ('09:07:16', 'Akbar Ali', 'PIAIC168636'),\n",
       " ('09:07:26', 'Muhammad’s iPhone', 'PIAIC49583'),\n",
       " ('09:08:36', 'Zaki', 'PIAIC 172541'),\n",
       " ('09:08:36', 'Kabeer Rajput', 'PIAIC133488'),\n",
       " ('09:08:39', 'Humera Naz', 'PIAIC 173431'),\n",
       " ('09:09:10', 'Sabir Zafar', 'PIAIC182023'),\n",
       " ('09:09:47', 'assad mahmood (PIAIC179144)', 'PIAIC179144'),\n",
       " ('09:13:08', 'PIAIC172478', 'PIAIC172478'),\n",
       " ('09:14:47', 'Nida yaseen 183444', 'PIAIC183444'),\n",
       " ('09:15:12', 'Syed Jawad [PIAIC185558]', 'PIAIC185558'),\n",
       " ('09:16:32', 'Uzair Ullah', 'PIAIC169405'),\n",
       " ('09:16:58', 'Muhammad Furqan', 'PIAIC183270'),\n",
       " ('09:17:35', 'Mohammad Idrees', 'PIAIC74182'),\n",
       " ('09:18:26', 'Aneeq', 'PIAIC172924'),\n",
       " ('09:18:43', 'Maaz-PIAIC182239', 'PIAIC182239'),\n",
       " ('09:19:00', 'Irfan Ahmed', 'PIAIC183459'),\n",
       " ('09:19:19', 'Irfan Ahmed', 'PIAIC183459'),\n",
       " ('09:19:40', 'Noman Saleem Khan PIAIC131844', 'PIAIC-131844'),\n",
       " ('09:23:57', 'ABDULBASIT 59115', 'PIAIC 59115'),\n",
       " ('09:24:49', 'Junaid Ali Bhatti', 'PIAIC174125'),\n",
       " ('09:24:57', 'vivo 1901', 'PIAIC74287'),\n",
       " ('09:25:43', 'Noman Ali PIAIC 180111', 'PIAIC180111'),\n",
       " ('09:25:59', 'Muhammad Sadullah - PIAIC178950', 'PIAIC178950'),\n",
       " ('09:27:32', 'Rabiya Raees', 'PIAIC188259'),\n",
       " ('09:27:51', 'Sehrish Fatima', 'PIAIC174229'),\n",
       " ('09:28:11', 'Syed Sajjad Hussain PIAIC152592', 'PIAIC152592'),\n",
       " ('09:32:00', 'Rafay Ali PIAIC174462', 'PIAIC174462'),\n",
       " ('09:32:19', 'Abdullah Arif 129260', 'PIAIC 129260'),\n",
       " ('09:32:29', 'Muhammad Furqan(PIAIC183270)', 'PIAIC183270'),\n",
       " ('09:33:26', 'اسامه سلفى PIAIC91925', 'PIAIC91925'),\n",
       " ('09:35:41', 'Adnan Ul Haq (PIAIC-103786)', 'PIAIC-103786'),\n",
       " ('09:35:44', 'Humera Naz', 'PIAIC 173431'),\n",
       " ('09:36:39', 'Safeer 139339', 'PIAIC139339'),\n",
       " ('09:36:39', 'Agha ALi PIAIC164763', 'PIAIC164763'),\n",
       " ('09:36:41', 'Talha Munir', 'PIAIC173761'),\n",
       " ('09:37:30', 'PIAIC103761', 'PIAIC103761'),\n",
       " ('09:41:17', 'Maah Noor PIAIC168751', 'PIAIC168751'),\n",
       " ('09:42:54', 'Syed PIAIC168703', 'PIAIC168703'),\n",
       " ('09:43:39', 'Irfan Ahmed', 'PIAIC172147'),\n",
       " ('09:44:01', 'Moeed Masood PIAIC185253', 'PIAIC185253'),\n",
       " ('09:44:31', 'Muhammad Saad', 'PIAIC172478'),\n",
       " ('09:47:00', 'Jawad Mehmood', 'PIAIC172631'),\n",
       " ('09:47:27', 'PIAIC183459 Irfan Ahmed', 'PIAIC183459'),\n",
       " ('09:48:36', 'PIAIC149101 sana', 'PIAIC149101'),\n",
       " ('09:50:26', 'Saeed', 'PIAIC131885'),\n",
       " ('09:50:57', 'Muhammad Sarim Effendi', 'PIAIC188720'),\n",
       " ('09:52:23', 'SadafMansoor PIAIC84989', 'PIAIC84989'),\n",
       " ('09:52:40', '(PIAIC-189416) Muhammad Murtaza Khan', 'PIAIC189416'),\n",
       " ('10:00:05', 'arijraees', 'PIAIC186180'),\n",
       " ('10:01:32', 'Haider Ali-PIAIC179345', 'PIAIC179345'),\n",
       " ('10:02:52', 'Faizan Muhammad', 'PIAIC189427'),\n",
       " ('10:03:08', 'Maha Ilyas 2874', 'PIAIC 177982'),\n",
       " ('10:04:06', 'Kashif Khan', 'PIAIC 143001'),\n",
       " ('10:04:45', 'PIAIC183459 Irfan Ahmed', 'PIAIC183459'),\n",
       " ('10:04:56', 'Mohsin Naseer PIAIC68513', 'PIAIC68513'),\n",
       " ('10:05:55', 'Muhammad Farhan Ahsan PIAIC-168894', 'PIAIC168894'),\n",
       " ('10:08:10', 'Raashid', 'PIAIC55486'),\n",
       " ('10:08:42', 'Abu Bakar', 'PIAIC50303'),\n",
       " ('10:09:51', 'Muhammad Zeeshan Anjum', 'PIAIC78589'),\n",
       " ('10:11:52', 'Muhammad Shahid', 'PIAIC005259'),\n",
       " ('10:14:36', 'PIAIC181896', 'PIAIC 181896'),\n",
       " ('10:15:01', 'Irfan Ahmed - (PIAIC178547)', 'PIAIC178547'),\n",
       " ('10:25:29', 'Ali Raza', 'PIAIC62922'),\n",
       " ('10:26:46', 'Muhammad Adrees', 'PIAIC74182'),\n",
       " ('10:27:50', 'Zeenat Zakir: Piaic 133802', 'PIAIC133802'),\n",
       " ('10:31:06', 'Safeer 139339', 'PIAIC 139339'),\n",
       " ('10:32:46', 'Shahid PIAIC134239', 'PIAIC134239'),\n",
       " ('10:36:33', 'Ali Azam-PIAIC66597', 'PIAIC66597'),\n",
       " ('10:37:10', 'Hamza', 'PIAIC173652'),\n",
       " ('10:38:57', 'Majid Naru PIAIC-187644', 'PIAIC187644'),\n",
       " ('10:44:42', 'Faisal Bashir', 'PIAIC177802'),\n",
       " ('10:44:46', 'muhammad.naveed', 'PIAIC133985'),\n",
       " ('10:45:05', 'Musa Abkr', 'PIAIC116498'),\n",
       " ('10:46:20', 'Hasnain Munir', 'PIAIC187272'),\n",
       " ('10:47:39', 'PIAIC183459 Irfan Ahmed', 'PIAIC183459'),\n",
       " ('10:49:10', 'Muhammad’s iPhone', 'PIAIC49583'),\n",
       " ('10:51:47', 'Mohammad Javed', 'PIAIC185754'),\n",
       " ('10:52:11', 'M. ADNAN SAEED, PIAIC 174751', 'PIAIC174151'),\n",
       " ('10:52:54', 'Syed Amir PIAIC128409', 'PIAIC128409'),\n",
       " ('10:55:14', 'Humera Naz', 'PIAIC 173431'),\n",
       " ('10:55:45', 'PIAIC183459 Irfan Ahmed', 'PIAIC183459'),\n",
       " ('10:55:56', 'Dr. Engr. Bhagwan Das', 'PIAIC96879'),\n",
       " ('10:58:14', 'Ali Raza', 'PIAIC62922'),\n",
       " ('11:00:23', 'PIAIC183459 Irfan Ahmed', 'PIAIC183459'),\n",
       " ('11:01:06', 'Saeed', 'PIAIC131885'),\n",
       " ('11:01:31', 'PIAIC172478', 'PIAIC172478'),\n",
       " ('11:02:18', '(PIAIC-189416) Muhammad Murtaza Khan', 'PIAIC189416'),\n",
       " ('11:04:41', 'Shoaib Ahmed Khan', 'PIAIC159833'),\n",
       " ('11:08:25', 'Homesaira mehmood', 'PIAIC176439'),\n",
       " ('11:08:34', 'Saad Aslam', 'PIAIC187831'),\n",
       " ('11:08:40', 'PIAIC183459 Irfan Ahmed', 'PIAIC183459'),\n",
       " ('11:09:07', 'Qayyum PIAIC178438', 'PIAIC178438'),\n",
       " ('11:11:52', 'PIAIC172478', 'PIAIC172478'),\n",
       " ('11:13:18', 'Hamna Sheikh', 'PIAIC172946'),\n",
       " ('11:13:28', 'PIAIC 177535', 'PIAIC 177535'),\n",
       " ('11:14:03', 'Muhammad Faizan', 'PIAIC 188687'),\n",
       " ('11:14:12', 'Usman Noor PIAIC-188401', 'PIAIC188401'),\n",
       " ('11:15:38', 'Umer Ghaffar PIAIC184298', 'PIAIC184298'),\n",
       " ('11:20:10', 'PIAIC183459 Irfan Ahmed', 'PIAIC183459'),\n",
       " ('11:20:46', 'Muhammad Athar', 'PIAIC174016'),\n",
       " ('11:21:13', 'Umer Ghaffar PIAIC184298', 'PIAIC184298'),\n",
       " ('11:21:26', 'PIAIC133985 Muhammad Naveed', 'PIAIC133985'),\n",
       " ('11:21:48', 'Qadeer Ahmed', 'PIAIC163577'),\n",
       " ('11:22:50', 'Rabiya Raees_PIAIC 188259', 'PIAIC188259'),\n",
       " ('11:23:25', 'Salma Asif', 'PIAIC176945'),\n",
       " ('11:23:44', 'PIAIC183459 Irfan Ahmed', 'PIAIC183459'),\n",
       " ('11:23:48', 'Salman Nayyer', 'PIAIC180996'),\n",
       " ('11:27:11', 'Muhammad Sheraz-PIAIC68522', 'PIAIC68522'),\n",
       " ('11:27:19', 'Muhammad Sheraz-PIAIC68522', 'PIAIC68522'),\n",
       " ('11:27:25', 'Mohammad Javed', 'PIAIC185754'),\n",
       " ('11:27:30', 'Saeed', 'PIAIC-131885'),\n",
       " ('11:28:11', '187118 Muhammad Imran Wali', 'PIAIC187118'),\n",
       " ('11:28:14', 'Muhammad Sheraz-PIAIC68522', 'PIAIC68522'),\n",
       " ('11:29:25', 'Muhammad Sadullah - PIAIC178950', 'PIAIC178950'),\n",
       " ('11:29:28', 'Fareeha', 'PIAIC142650'),\n",
       " ('11:29:44', 'Muhammad Sheraz-PIAIC68522', 'PIAIC68522'),\n",
       " ('11:30:40', 'Hasnain Munir', 'PIAIC187272'),\n",
       " ('11:30:43', 'Ureb Ahmad', 'PIAIC-172235'),\n",
       " ('11:30:48', 'Umer Ghaffar PIAIC184298', 'PIAIC184298'),\n",
       " ('11:31:13', 'Dr. Engr. Bhagwan Das', 'PIAIC96879'),\n",
       " ('11:32:12', 'Abdullah Arif 129260', 'PIAIC129260'),\n",
       " ('11:32:38', 'Mashal Zahra', 'PIAIC178751'),\n",
       " ('11:32:40', 'Hifza Ansari', 'PIAIC177625'),\n",
       " ('11:32:45', 'Muhammad Sheraz-PIAIC68522', 'PIAIC68522'),\n",
       " ('11:33:33', 'Muhammad Sheraz-PIAIC68522', 'PIAIC68522'),\n",
       " ('11:33:33', 'PIAIC183459 Irfan Ahmed', 'PIAIC183459'),\n",
       " ('11:33:38', 'Humera Naz', 'PIAIC 173431'),\n",
       " ('11:33:48', 'Ali Raza', 'PIAIC62922'),\n",
       " ('11:33:56', 'Muhammad Uzair-177637', 'PIAIC177637'),\n",
       " ('11:33:59', 'PIAIC183459 Irfan Ahmed', 'PIAIC183459'),\n",
       " ('11:34:08', 'PIAIC183459 Irfan Ahmed', 'PIAIC183459'),\n",
       " ('11:34:08', 'Saeed', 'PIAIC131885'),\n",
       " ('11:34:09', 'Syed Amir PIAIC128409', 'PIAIC128409'),\n",
       " ('11:34:12', 'Huzaifa Tahir PIAIC-60925', 'PIAIC60925'),\n",
       " ('11:34:14', 'Maaz-PIAIC182239', 'PIAIC182239'),\n",
       " ('11:34:14', 'Assad Mahmood (PIAIC179144)', 'PIAIC179144'),\n",
       " ('11:34:16', 'Kabeer Rajput', 'PIAIC133488'),\n",
       " ('11:34:17', 'Talha Munir', 'PIAIC173761'),\n",
       " ('11:34:18', 'Amir Rashid', 'PIAIC107890'),\n",
       " ('11:34:18', 'Shoaib Ahmed Khan', 'PIAIC159833'),\n",
       " ('11:34:19', 'Muhammad Furqan(PIAIC183270)', 'PIAIC183270'),\n",
       " ('11:34:19', 'Syed Jawad [PIAIC185558]', 'PIAIC185558'),\n",
       " ('11:34:20', 'Agha ALi PIAIC164763', 'PIAIC164763'),\n",
       " ('11:34:20', 'Muhammad Sadullah - PIAIC178950', 'PIAIC178950'),\n",
       " ('11:34:20', 'PIAIC175636 - M. Ziad Khan', 'PIAIC175636'),\n",
       " ('11:34:21', 'arijraees', 'PIAIC186180'),\n",
       " ('11:34:22', 'Akbar Ali', 'PIAIC168636'),\n",
       " ('11:34:22', 'Dr. Engr. Bhagwan Das', 'PIAIC96879'),\n",
       " ('11:34:23', 'Sehrish Fatima', 'PIAIC174229'),\n",
       " ('11:34:24', 'Assad Mahmood (PIAIC179144)', 'PIAIC179144'),\n",
       " ('11:34:24', '(PIAIC-189416) Muhammad Murtaza Khan', 'PIAIC189416'),\n",
       " ('11:34:24', 'Wajeeha Ayaz', 'PIAIC 175646'),\n",
       " ('11:34:25', 'Ahmad Mudassar PIAIC113830', 'PIAIC113830'),\n",
       " ('11:34:25', 'GSTAR GROUP', 'PIAIC172332'),\n",
       " ('11:34:26', 'M. ADNAN SAEED, PIAIC 174751', 'PIAIC174751'),\n",
       " ('11:34:27', 'Maah Noor PIAIC168751', 'PIAIC168751'),\n",
       " ('11:34:27', 'Humera Naz', 'PIAIC 173431'),\n",
       " ('11:34:27', 'Raashid', 'PIAIC55486'),\n",
       " ('11:34:27', 'Mashal Zahra', 'PIAIC178751'),\n",
       " ('11:34:27', 'Nadeem ali Jamro PIAIC166522', 'PIAIC166522'),\n",
       " ('11:34:28', 'Muneeb(PIAIC173219)', 'PIAIC173219'),\n",
       " ('11:34:28', 'Uzair Ullah', 'PIAIC169405'),\n",
       " ('11:34:29', 'Adnan Ul Haq (PIAIC-103786)', 'PIAIC103786'),\n",
       " ('11:34:29', 'Dr. Engr. Bhagwan Das', 'PIAIC96879'),\n",
       " ('11:34:30', 'Afrooz Alam (PIAIC89531)', 'PIAIC89531'),\n",
       " ('11:34:30', 'Muhammad Adrees', 'PIAIC74182'),\n",
       " ('11:34:31', 'SHEHZAD PIAIC180057', 'PIAIC180057'),\n",
       " ('11:34:32', 'Sm', 'PIAIC176439'),\n",
       " ('11:34:32', 'Saad PIAIC174416', 'PIAIC174416'),\n",
       " ('11:34:32', 'Mohammad Javed', 'PIAIC185754'),\n",
       " ('11:34:33', '133544-Matee', 'PIAIC133544'),\n",
       " ('11:34:33', 'Irfan Ahmed - (PIAIC178547)', 'PIAIC178547'),\n",
       " ('11:34:33', 'PIAIC149101 sana', 'PIAIC149101'),\n",
       " ('11:34:35', 'Aqeel-PIAIC116364', 'PIAIC116364'),\n",
       " ('11:34:36', 'Syed Sajjad Hussain PIAIC152592', 'PIAIC152592'),\n",
       " ('11:34:38', 'Afrooz Alam (PIAIC89531)', 'PIAIC89531'),\n",
       " ('11:34:38', 'Usman Noor PIAIC-188401', 'PIAIC188401'),\n",
       " ('11:34:39', 'Ali Raza', 'PIAIC62922'),\n",
       " ('11:34:40', 'Mashal Zahra', 'PIAIC178751'),\n",
       " ('11:34:41', 'Ashraf Makhdoom Syed', 'PIAIC155482'),\n",
       " ('11:34:41', '187118 Muhammad Imran Wali', 'PIAIC187118'),\n",
       " ('11:34:42', 'Fareeha', 'PIAIC142650'),\n",
       " ('11:34:43', 'Saeed', 'PIAIC131885'),\n",
       " ('11:34:43', 'Salma Asif', 'PIAIC176945'),\n",
       " ('11:34:44', 'Jawad Ahmed PIAIC96020', 'PIAIC96020'),\n",
       " ('11:34:44', 'Gulshan Ali', 'PIAIC176719'),\n",
       " ('11:34:45', 'Aneeq', 'PIAIC172924'),\n",
       " ('11:34:45', 'Aisha Siddiqua', 'PIAIC181221'),\n",
       " ('11:34:46', '133544-Matee', 'PIAIC133544'),\n",
       " ('11:34:47', 'PIAIC175636 - M. Ziad Khan', 'PIAIC175636'),\n",
       " ('11:34:50', 'Adil Naveed PIAIC167854', 'PIAIC167854'),\n",
       " ('11:34:50', 'Kabeer Rajput', 'PIAIC133488'),\n",
       " ('11:34:50', 'Zeeshan Asim : PIAIC55300', 'PIAIC55300'),\n",
       " ('11:34:50', 'Muhammad Uzair-177637', 'PIAIC177637'),\n",
       " ('11:34:51', 'Saad Aslam', 'PIAIC187831'),\n",
       " ('11:34:51', 'Mohsin Naseer PIAIC68513', 'PIAIC68513'),\n",
       " ('11:34:51', 'Assad Mahmood (PIAIC179144)', 'PIAIC179144'),\n",
       " ('11:34:51', 'Salman Nayyer', 'PIAIC180996'),\n",
       " ('11:34:51', 'Zaki', 'PIAIC 172541'),\n",
       " ('11:34:52', 'syed ibad ur rehman', 'PIAIC166678'),\n",
       " ('11:34:52', 'Talha Munir', 'PIAIC173761'),\n",
       " ('11:34:53', 'Haider Ali-PIAIC179345', 'PIAIC179345'),\n",
       " ('11:34:54', 'Amir Rashid', 'PIAIC107890'),\n",
       " ('11:34:55', 'Muhammad Sadullah - PIAIC178950', 'PIAIC178950'),\n",
       " ('11:34:55', 'Muhammad’s iPhone', 'PIAIC49583'),\n",
       " ('11:34:56', 'Zeenat Zakir: Piaic 133802', 'PIAIC133802'),\n",
       " ('11:34:56', 'Irfan Ahmed', 'PIAIC172147'),\n",
       " ('11:34:56', 'PIAIC181896', 'PIAIC181896'),\n",
       " ('11:34:57', 'PIAIC183459 Irfan Ahmed', 'PIAIC183459'),\n",
       " ('11:34:58', 'Yousaf-PIAIC173795', 'PIAIC173795'),\n",
       " ('11:34:59', 'Irfan Ahmed', 'PIAIC172147'),\n",
       " ('11:34:59', 'PIAIC 177535', 'PIAIC 177535'),\n",
       " ('11:35:00', 'Qadeer Ahmed', 'PIAIC163577'),\n",
       " ('11:35:02', 'Syed PIAIC168703', 'PIAIC168703'),\n",
       " ('11:35:03', 'Uzair Ullah', 'PIAIC169405'),\n",
       " ('11:35:05', 'Sehrish Fatima', 'PIAIC174229'),\n",
       " ('11:35:05', 'Syed Sajjad Hussain PIAIC152592', 'PIAIC152592'),\n",
       " ('11:35:05', 'Mohammad Javed', 'PIAIC185754'),\n",
       " ('11:35:05', 'Syed Jawad [PIAIC185558]', 'PIAIC185558'),\n",
       " ('11:35:05', 'syed ibad ur rehman', 'PIAIC166678'),\n",
       " ('11:35:07', 'Rabiya Raees_PIAIC 188259', 'PIAIC188259'),\n",
       " ('11:35:09', 'Akbar Ali', 'PIAIC168636'),\n",
       " ('11:35:09', 'PIAIC183459 Irfan Ahmed', 'PIAIC183459'),\n",
       " ('11:35:09', 'Muneeb(PIAIC173219)', 'PIAIC173219'),\n",
       " ('11:35:09', 'Hasnain Munir', 'PIAIC187272'),\n",
       " ('11:35:10', 'Salma Asif', 'PIAIC176945'),\n",
       " ('11:35:11', 'PIAIC-99685', 'PIAIC-99685'),\n",
       " ('11:35:12', 'Sm', 'PIAIC176439'),\n",
       " ('11:35:13', 'Huzaifa Tahir PIAIC-60925', 'PIAIC60925'),\n",
       " ('11:35:13', 'Muhammad Hawaris', 'PIAIC188433'),\n",
       " ('11:35:15', 'Nadeem Hussain Koondhar', 'PIAIC-182905'),\n",
       " ('11:35:16', 'Abdul Saboor Zaman', 'PIAIC189261'),\n",
       " ('11:35:18', 'PIAIC183459 Irfan Ahmed', 'PIAIC183459'),\n",
       " ('11:35:18', 'Shahid PIAIC134239', 'PIAIC134239'),\n",
       " ('11:35:19', 'daud', 'PIAIC173579'),\n",
       " ('11:35:19', 'syed ibad ur rehman', 'PIAIC166678'),\n",
       " ('11:35:21', 'Shoaib Ahmed Khan', 'PIAIC159833'),\n",
       " ('11:35:23', 'Adil Naveed PIAIC167854', 'PIAIC167854'),\n",
       " ('11:35:23', 'Agha ALi PIAIC164763', 'PIAIC164763'),\n",
       " ('11:35:23', 'Muhammad Adrees', 'PIAIC74182'),\n",
       " ('11:35:24', 'Aisha Siddiqua', 'PIAIC181221'),\n",
       " ('11:35:31', 'Abdul Qadar', 'PIAIC172941'),\n",
       " ('11:35:33', 'khurshed', 'PIAIC157450'),\n",
       " ('11:35:33', 'Hasnain Munir', 'PIAIC187272'),\n",
       " ('11:35:33', 'Maha Ilyas 2874', 'PIAIC 177982'),\n",
       " ('11:35:36', 'Muhammad Sadullah - PIAIC178950', 'PIAIC178950'),\n",
       " ('11:35:38', 'PIAIC149101 sana', 'PIAIC149101'),\n",
       " ('11:35:40', 'Nehal', 'PIAIC182641'),\n",
       " ('11:35:45', '187118 Muhammad Imran Wali', 'PIAIC187118'),\n",
       " ('11:35:45', 'Afnan 182978', 'PIAIC 182978'),\n",
       " ('11:35:47', '(PIAIC-189416) Muhammad Murtaza Khan', 'PIAIC189416'),\n",
       " ('11:35:52', 'Ali Raza', 'PIAIC 62922'),\n",
       " ('11:35:55', 'Kashif', 'PIAIC181638'),\n",
       " ('11:36:01', 'Muhammad Faizan', 'PIAIC172328'),\n",
       " ('11:36:08', 'Muhammad Ashraf', 'PIAIC179123'),\n",
       " ('11:36:09', 'PIAIC183459 Irfan Ahmed', 'PIAIC183459'),\n",
       " ('11:36:10', 'Muhammad Sarim Effendi', 'PIAIC188720'),\n",
       " ('11:36:18', '1998', 'PIAIC 99685'),\n",
       " ('11:36:19', 'PIAIC133985 Muhammad Naveed', 'PIAIC133985'),\n",
       " ('11:36:20', 'Muhammad Sarim Effendi', 'PIAIC187258'),\n",
       " ('11:36:22', 'vivo 1901', 'PIAIC74287'),\n",
       " ('11:36:28', 'Neelum Javaid 172527', 'PIAIC172527'),\n",
       " ('11:36:32', 'Jawad Ahmed PIAIC96020', 'PIAIC96020'),\n",
       " ('11:36:35', 'PIAIC133985 Muhammad Naveed', 'PIAIC133985'),\n",
       " ('11:36:38', 'Umer Ghaffar PIAIC184298', 'PIAIC184298'),\n",
       " ('11:36:39', 'Imran Khalid PIAIC185636', 'PIAIC185636'),\n",
       " ('11:36:49', '1998', 'PIAIC 99685'),\n",
       " ('11:36:58', 'Moeed Masood PIAIC185253', 'PIAIC185253'),\n",
       " ('11:37:06', 'Majid Naru PIAIC-187644', 'PIAIC187644'),\n",
       " ('11:37:10', 'cz 3', 'PIAIC12356'),\n",
       " ('11:37:26', 'PIAIC183459 Irfan Ahmed', 'PIAIC183459'),\n",
       " ('11:38:13', 'Kainat PIAIC182352', 'PIAIC182352')]"
      ]
     },
     "execution_count": 22,
     "metadata": {},
     "output_type": "execute_result"
    }
   ],
   "source": [
    "import re\n",
    "\n",
    "rows : list[str] = re.findall(r'(\\d{2}:\\d{2}:\\d{2}) From (.*) To Everyone : (PIAIC-? ?\\d{5,6})',chat)\n",
    "rows"
   ]
  },
  {
   "cell_type": "code",
   "execution_count": 23,
   "metadata": {},
   "outputs": [
    {
     "ename": "ModuleNotFoundError",
     "evalue": "No module named 'pandas'",
     "output_type": "error",
     "traceback": [
      "\u001b[1;31m---------------------------------------------------------------------------\u001b[0m",
      "\u001b[1;31mModuleNotFoundError\u001b[0m                       Traceback (most recent call last)",
      "\u001b[1;32me:\\PIAIC\\GAI\\01 python\\jpy.ipynb Cell 49\u001b[0m line \u001b[0;36m1\n\u001b[1;32m----> <a href='vscode-notebook-cell:/e%3A/PIAIC/GAI/01%20python/jpy.ipynb#X66sZmlsZQ%3D%3D?line=0'>1</a>\u001b[0m \u001b[39mimport\u001b[39;00m \u001b[39mpandas\u001b[39;00m \u001b[39mas\u001b[39;00m \u001b[39mpd\u001b[39;00m\n\u001b[0;32m      <a href='vscode-notebook-cell:/e%3A/PIAIC/GAI/01%20python/jpy.ipynb#X66sZmlsZQ%3D%3D?line=2'>3</a>\u001b[0m df \u001b[39m=\u001b[39m pd\u001b[39m.\u001b[39mDataFrame(rows,columns\u001b[39m=\u001b[39m[\u001b[39m'\u001b[39m\u001b[39mTime\u001b[39m\u001b[39m'\u001b[39m,\u001b[39m'\u001b[39m\u001b[39mName\u001b[39m\u001b[39m'\u001b[39m,\u001b[39m'\u001b[39m\u001b[39mRoll No\u001b[39m\u001b[39m'\u001b[39m])\n\u001b[0;32m      <a href='vscode-notebook-cell:/e%3A/PIAIC/GAI/01%20python/jpy.ipynb#X66sZmlsZQ%3D%3D?line=3'>4</a>\u001b[0m df\n",
      "\u001b[1;31mModuleNotFoundError\u001b[0m: No module named 'pandas'"
     ]
    }
   ],
   "source": [
    "import pandas as pd\n",
    "\n",
    "df = pd.DataFrame(rows,columns=['Time','Name','Roll No'])\n",
    "df"
   ]
  },
  {
   "cell_type": "code",
   "execution_count": null,
   "metadata": {},
   "outputs": [
    {
     "ename": "",
     "evalue": "",
     "output_type": "error",
     "traceback": [
      "\u001b[1;31mnotebook controller is DISPOSED. \n",
      "\u001b[1;31mView Jupyter <a href='command:jupyter.viewOutput'>log</a> for further details."
     ]
    }
   ],
   "source": []
  }
 ],
 "metadata": {
  "kernelspec": {
   "display_name": "py12",
   "language": "python",
   "name": "python3"
  },
  "language_info": {
   "codemirror_mode": {
    "name": "ipython",
    "version": 3
   },
   "file_extension": ".py",
   "mimetype": "text/x-python",
   "name": "python",
   "nbconvert_exporter": "python",
   "pygments_lexer": "ipython3",
   "version": "3.12.0"
  }
 },
 "nbformat": 4,
 "nbformat_minor": 2
}
