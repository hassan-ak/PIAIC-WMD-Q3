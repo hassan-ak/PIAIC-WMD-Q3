{
 "cells": [
  {
   "cell_type": "markdown",
   "metadata": {},
   "source": [
    "---"
   ]
  },
  {
   "cell_type": "code",
   "execution_count": 2,
   "metadata": {},
   "outputs": [
    {
     "data": {
      "text/plain": [
       "True"
      ]
     },
     "execution_count": 2,
     "metadata": {},
     "output_type": "execute_result"
    }
   ],
   "source": [
    "from dotenv import load_dotenv,find_dotenv\n",
    "load_dotenv(find_dotenv())"
   ]
  },
  {
   "cell_type": "code",
   "execution_count": 3,
   "metadata": {},
   "outputs": [
    {
     "data": {
      "text/plain": [
       "'\\n\\nLarge language models are a type of artificial intelligence that uses large amounts of data to learn the structure of natural language.'"
      ]
     },
     "execution_count": 3,
     "metadata": {},
     "output_type": "execute_result"
    }
   ],
   "source": [
    "from langchain.llms import OpenAI\n",
    "llm = OpenAI(model_name=\"text-davinci-003\")\n",
    "llm(\"explain large language models in one sentence\")"
   ]
  },
  {
   "cell_type": "markdown",
   "metadata": {},
   "source": [
    "---"
   ]
  },
  {
   "cell_type": "code",
   "execution_count": 1,
   "metadata": {},
   "outputs": [
    {
     "data": {
      "text/plain": [
       "True"
      ]
     },
     "execution_count": 1,
     "metadata": {},
     "output_type": "execute_result"
    }
   ],
   "source": [
    "from dotenv import load_dotenv,find_dotenv\n",
    "load_dotenv(find_dotenv())"
   ]
  },
  {
   "cell_type": "code",
   "execution_count": 2,
   "metadata": {},
   "outputs": [],
   "source": [
    "from langchain.schema import (\n",
    "    AIMessage,\n",
    "    HumanMessage,\n",
    "    SystemMessage\n",
    ")\n",
    "from langchain.chat_models import ChatOpenAI"
   ]
  },
  {
   "cell_type": "code",
   "execution_count": 3,
   "metadata": {},
   "outputs": [
    {
     "name": "stdout",
     "output_type": "stream",
     "text": [
      "Sure! Here's an example of a Python script that trains a simple neural network on simulated data using the Keras library:\n",
      "\n",
      "```python\n",
      "import numpy as np\n",
      "from keras.models import Sequential\n",
      "from keras.layers import Dense\n",
      "\n",
      "# Generate simulated data\n",
      "np.random.seed(0)\n",
      "X = np.random.rand(100, 2)\n",
      "y = np.random.randint(2, size=100)\n",
      "\n",
      "# Define the neural network architecture\n",
      "model = Sequential()\n",
      "model.add(Dense(10, input_dim=2, activation='relu'))\n",
      "model.add(Dense(1, activation='sigmoid'))\n",
      "\n",
      "# Compile the model\n",
      "model.compile(loss='binary_crossentropy', optimizer='adam', metrics=['accuracy'])\n",
      "\n",
      "# Train the model\n",
      "model.fit(X, y, epochs=10, batch_size=10)\n",
      "\n",
      "# Evaluate the model\n",
      "loss, accuracy = model.evaluate(X, y)\n",
      "print(f\"Loss: {loss}, Accuracy: {accuracy}\")\n",
      "```\n",
      "\n",
      "In this script, we first generate simulated data using `np.random.rand()` and `np.random.randint()`. The input data `X` is a 2-dimensional array of random numbers between 0 and 1, and the target labels `y` are randomly generated binary values (0 or 1).\n",
      "\n",
      "Next, we define the neural network architecture using the `Sequential` class from Keras. The network consists of two dense layers, with 10 units in the hidden layer and 1 unit in the output layer. The activation function for the hidden layer is ReLU, and the output layer uses a sigmoid activation function.\n",
      "\n",
      "After defining the architecture, we compile the model using the `compile()` method. We specify the loss function as binary cross-entropy and use the Adam optimizer. We also specify that we want to track the accuracy metric during training.\n",
      "\n",
      "We then train the model using the `fit()` method. We pass in the input data `X` and target labels `y`, specify the number of epochs and batch size, and the model trains on the data.\n",
      "\n",
      "Finally, we evaluate the trained model using the `evaluate()` method. We pass in the input data `X` and target labels `y`, and the method returns the loss and accuracy of the model on the test data.\n"
     ]
    }
   ],
   "source": [
    "chat = ChatOpenAI(model_name=\"gpt-3.5-turbo\",temperature=0.3)\n",
    "messages = [\n",
    "    SystemMessage(content=\"You are an expert data scientist\"),\n",
    "    HumanMessage(content=\"Write a Python script that trains a neural network on simulated data \")\n",
    "]\n",
    "response=chat(messages)\n",
    "\n",
    "print(response.content,end='\\n')"
   ]
  },
  {
   "cell_type": "markdown",
   "metadata": {},
   "source": [
    "---"
   ]
  },
  {
   "cell_type": "code",
   "execution_count": 4,
   "metadata": {},
   "outputs": [
    {
     "data": {
      "text/plain": [
       "True"
      ]
     },
     "execution_count": 4,
     "metadata": {},
     "output_type": "execute_result"
    }
   ],
   "source": [
    "from dotenv import load_dotenv,find_dotenv\n",
    "load_dotenv(find_dotenv())"
   ]
  },
  {
   "cell_type": "code",
   "execution_count": 5,
   "metadata": {},
   "outputs": [],
   "source": [
    "from langchain import PromptTemplate\n",
    "\n",
    "template = \"\"\"\n",
    "You are an expert data scientist with an expertise in building deep learning models. \n",
    "Explain the concept of {concept} in a couple of lines\n",
    "\"\"\"\n",
    "\n",
    "prompt = PromptTemplate(\n",
    "    input_variables=[\"concept\"],\n",
    "    template=template,\n",
    ")"
   ]
  },
  {
   "cell_type": "code",
   "execution_count": 6,
   "metadata": {},
   "outputs": [],
   "source": [
    "from langchain.llms import OpenAI\n",
    "llm = OpenAI(model_name=\"text-davinci-003\")"
   ]
  },
  {
   "cell_type": "code",
   "execution_count": 7,
   "metadata": {},
   "outputs": [
    {
     "data": {
      "text/plain": [
       "'\\nRegularization is a technique used in machine learning to reduce the risk of overfitting by adding a penalty to the loss function. It works by penalizing large weights in the model, which encourages simpler models and helps to improve generalization performance.'"
      ]
     },
     "execution_count": 7,
     "metadata": {},
     "output_type": "execute_result"
    }
   ],
   "source": [
    "llm(prompt.format(concept=\"regularization\"))"
   ]
  },
  {
   "cell_type": "code",
   "execution_count": 8,
   "metadata": {},
   "outputs": [
    {
     "data": {
      "text/plain": [
       "'\\nAn autoencoder is a type of artificial neural network used to learn a compressed representation of data. It consists of an encoder which maps the input data to a low-dimensional representation (latent space) and a decoder which reconstructs the original data from the latent space. Autoencoders are used for dimensionality reduction, anomaly detection, and generative modeling.'"
      ]
     },
     "execution_count": 8,
     "metadata": {},
     "output_type": "execute_result"
    }
   ],
   "source": [
    "llm(prompt.format(concept=\"autoencoder\"))"
   ]
  },
  {
   "cell_type": "markdown",
   "metadata": {},
   "source": [
    "---"
   ]
  },
  {
   "cell_type": "code",
   "execution_count": 9,
   "metadata": {},
   "outputs": [
    {
     "data": {
      "text/plain": [
       "True"
      ]
     },
     "execution_count": 9,
     "metadata": {},
     "output_type": "execute_result"
    }
   ],
   "source": [
    "from dotenv import load_dotenv,find_dotenv\n",
    "load_dotenv(find_dotenv())"
   ]
  },
  {
   "cell_type": "code",
   "execution_count": 10,
   "metadata": {},
   "outputs": [],
   "source": [
    "from langchain.llms import OpenAI\n",
    "llm = OpenAI(model_name=\"text-davinci-003\")"
   ]
  },
  {
   "cell_type": "code",
   "execution_count": 11,
   "metadata": {},
   "outputs": [],
   "source": [
    "from langchain import PromptTemplate\n",
    "\n",
    "template = \"\"\"\n",
    "You are an expert data scientist with an expertise in building deep learning models. \n",
    "Explain the concept of {concept} in a couple of lines\n",
    "\"\"\"\n",
    "\n",
    "prompt = PromptTemplate(\n",
    "    input_variables=[\"concept\"],\n",
    "    template=template,\n",
    ")"
   ]
  },
  {
   "cell_type": "code",
   "execution_count": 12,
   "metadata": {},
   "outputs": [
    {
     "name": "stdout",
     "output_type": "stream",
     "text": [
      "\n",
      "An autoencoder is a type of artificial neural network used for unsupervised learning. It is designed to learn a compressed representation of input data by encoding it into a lower-dimensional representation and then reconstructing it back from the encoded version.\n"
     ]
    }
   ],
   "source": [
    "from langchain.chains import LLMChain\n",
    "chain = LLMChain(llm=llm, prompt=prompt)\n",
    "\n",
    "# Run the chain only specifying the input variable.\n",
    "print(chain.run(\"autoencoder\"))\n",
    "     "
   ]
  },
  {
   "cell_type": "markdown",
   "metadata": {},
   "source": [
    "---"
   ]
  },
  {
   "cell_type": "code",
   "execution_count": 13,
   "metadata": {},
   "outputs": [
    {
     "data": {
      "text/plain": [
       "True"
      ]
     },
     "execution_count": 13,
     "metadata": {},
     "output_type": "execute_result"
    }
   ],
   "source": [
    "from dotenv import load_dotenv,find_dotenv\n",
    "load_dotenv(find_dotenv())"
   ]
  },
  {
   "cell_type": "code",
   "execution_count": 14,
   "metadata": {},
   "outputs": [],
   "source": [
    "from langchain.llms import OpenAI\n",
    "llm = OpenAI(model_name=\"text-davinci-003\")"
   ]
  },
  {
   "cell_type": "code",
   "execution_count": 15,
   "metadata": {},
   "outputs": [],
   "source": [
    "from langchain import PromptTemplate\n",
    "\n",
    "template = \"\"\"\n",
    "You are an expert data scientist with an expertise in building deep learning models. \n",
    "Explain the concept of {concept} in a couple of lines\n",
    "\"\"\"\n",
    "\n",
    "prompt = PromptTemplate(\n",
    "    input_variables=[\"concept\"],\n",
    "    template=template,\n",
    ")"
   ]
  },
  {
   "cell_type": "code",
   "execution_count": 16,
   "metadata": {},
   "outputs": [],
   "source": [
    "from langchain.chains import LLMChain\n",
    "chain = LLMChain(llm=llm, prompt=prompt)"
   ]
  },
  {
   "cell_type": "code",
   "execution_count": 17,
   "metadata": {},
   "outputs": [],
   "source": [
    "second_prompt = PromptTemplate(\n",
    "    input_variables=[\"ml_concept\"],\n",
    "    template=\"Turn the concept description of {ml_concept} and explain it to me like I'm five in 500 words\",\n",
    ")\n",
    "chain_two = LLMChain(llm=llm, prompt=second_prompt)"
   ]
  },
  {
   "cell_type": "code",
   "execution_count": 19,
   "metadata": {},
   "outputs": [
    {
     "name": "stdout",
     "output_type": "stream",
     "text": [
      "\n",
      "\n",
      "\u001b[1m> Entering new SimpleSequentialChain chain...\u001b[0m\n",
      "\u001b[36;1m\u001b[1;3m\n",
      "An autoencoder is a type of artificial neural network used for unsupervised learning that attempts to reconstruct its own input. It is commonly used for dimensionality reduction, feature extraction, and noise reduction. The network typically consists of an encoder, which condenses the input data into a smaller representation, and a decoder, which reconstructs the original input from the compressed representation.\u001b[0m\n",
      "\u001b[33;1m\u001b[1;3m\n",
      "\n",
      "An autoencoder is a type of machine learning tool that helps computers learn on their own. It is used in a type of learning called unsupervised learning, which means the computer does not need someone to tell it what to do.\n",
      "\n",
      "Autoencoders work by taking in a set of data and trying to copy it. It does this by breaking the data down into a smaller version of itself, which is called an encoder. The encoder takes the data and makes it simpler, like a picture turned into a coloring page.\n",
      "\n",
      "Once the data is simplified, the autoencoder tries to recreate the original data from the simplified version. This is done by a part of the autoencoder called the decoder. The decoder takes the simplified version and tries to turn it back into the original data.\n",
      "\n",
      "Autoencoders are used for a few different things. One use is to reduce the number of dimensions in a set of data. For example, if you have a 3-dimensional set of data, an autoencoder can be used to turn it into a 2-dimensional set. This is called dimensionality reduction.\n",
      "\n",
      "Autoencoders are also used for feature extraction. This means taking\u001b[0m\n",
      "\n",
      "\u001b[1m> Finished chain.\u001b[0m\n",
      "\n",
      "\n",
      "An autoencoder is a type of machine learning tool that helps computers learn on their own. It is used in a type of learning called unsupervised learning, which means the computer does not need someone to tell it what to do.\n",
      "\n",
      "Autoencoders work by taking in a set of data and trying to copy it. It does this by breaking the data down into a smaller version of itself, which is called an encoder. The encoder takes the data and makes it simpler, like a picture turned into a coloring page.\n",
      "\n",
      "Once the data is simplified, the autoencoder tries to recreate the original data from the simplified version. This is done by a part of the autoencoder called the decoder. The decoder takes the simplified version and tries to turn it back into the original data.\n",
      "\n",
      "Autoencoders are used for a few different things. One use is to reduce the number of dimensions in a set of data. For example, if you have a 3-dimensional set of data, an autoencoder can be used to turn it into a 2-dimensional set. This is called dimensionality reduction.\n",
      "\n",
      "Autoencoders are also used for feature extraction. This means taking\n"
     ]
    }
   ],
   "source": [
    "from langchain.chains import SimpleSequentialChain\n",
    "overall_chain = SimpleSequentialChain(chains=[chain, chain_two], verbose=True)\n",
    "\n",
    "# Run the chain specifying only the input variable for the first chain.\n",
    "explanation = overall_chain.run(\"autoencoder\")\n",
    "print(explanation)"
   ]
  },
  {
   "cell_type": "markdown",
   "metadata": {},
   "source": [
    "---"
   ]
  },
  {
   "cell_type": "code",
   "execution_count": 20,
   "metadata": {},
   "outputs": [],
   "source": [
    "explanation: str = \"\"\"An autoencoder is like a machine that helps computers learn about the world. It is a type of artificial neural network, which is a type of computer program that can learn from experience.\n",
    "\n",
    "An autoencoder works by taking some input, like a picture of a dog, and then trying to make the output look the same as the input. It does this by breaking the picture down into small pieces and then putting them back together in a slightly different way. This process is called “encoding”.\n",
    "\n",
    "The autoencoder then takes the encoded image and tries to make it look as close as possible to the original input. This process is called “decoding”. The autoencoder is then able to learn how to make the picture look more like the original input.\n",
    "\n",
    "This type of artificial neural network is called an unsupervised autoencoder because it does not need someone to tell it what the correct output should look like. It is able to figure it out by itself.\n",
    "\n",
    "The autoencoder creates a “latent space”, which is a place where the data is stored in a way that the computer can understand.\n",
    "\"\"\""
   ]
  },
  {
   "cell_type": "code",
   "execution_count": 22,
   "metadata": {},
   "outputs": [
    {
     "data": {
      "text/plain": [
       "[Document(page_content='An autoencoder is like a machine that helps computers learn about the world. It is a type of'),\n",
       " Document(page_content='artificial neural network, which is a type of computer program that can learn from experience.'),\n",
       " Document(page_content='An autoencoder works by taking some input, like a picture of a dog, and then trying to make the'),\n",
       " Document(page_content='output look the same as the input. It does this by breaking the picture down into small pieces and'),\n",
       " Document(page_content='then putting them back together in a slightly different way. This process is called “encoding”.'),\n",
       " Document(page_content='The autoencoder then takes the encoded image and tries to make it look as close as possible to the'),\n",
       " Document(page_content='original input. This process is called “decoding”. The autoencoder is then able to learn how to'),\n",
       " Document(page_content='make the picture look more like the original input.'),\n",
       " Document(page_content='This type of artificial neural network is called an unsupervised autoencoder because it does not'),\n",
       " Document(page_content='need someone to tell it what the correct output should look like. It is able to figure it out by'),\n",
       " Document(page_content='itself.'),\n",
       " Document(page_content='The autoencoder creates a “latent space”, which is a place where the data is stored in a way that'),\n",
       " Document(page_content='the computer can understand.')]"
      ]
     },
     "execution_count": 22,
     "metadata": {},
     "output_type": "execute_result"
    }
   ],
   "source": [
    "# Import utility for splitting up texts and split up the explanation given above into document chunks\n",
    "\n",
    "from langchain.text_splitter import RecursiveCharacterTextSplitter\n",
    "\n",
    "text_splitter = RecursiveCharacterTextSplitter(\n",
    "    chunk_size = 100,\n",
    "    chunk_overlap  = 0,\n",
    ")\n",
    "\n",
    "texts = text_splitter.create_documents([explanation])\n",
    "\n",
    "texts"
   ]
  },
  {
   "cell_type": "code",
   "execution_count": 23,
   "metadata": {},
   "outputs": [
    {
     "data": {
      "text/plain": [
       "'An autoencoder is like a machine that helps computers learn about the world. It is a type of'"
      ]
     },
     "execution_count": 23,
     "metadata": {},
     "output_type": "execute_result"
    }
   ],
   "source": [
    "texts[0].page_content"
   ]
  },
  {
   "cell_type": "code",
   "execution_count": 24,
   "metadata": {},
   "outputs": [],
   "source": [
    "from langchain.embeddings import OpenAIEmbeddings\n",
    "\n",
    "embeddings = OpenAIEmbeddings(model=\"text-embedding-ada-002\",embedding_ctx_length= 1024)"
   ]
  },
  {
   "cell_type": "code",
   "execution_count": 25,
   "metadata": {},
   "outputs": [
    {
     "name": "stdout",
     "output_type": "stream",
     "text": [
      "[-0.04716166288791626, -0.007447963742013766, 0.011908846421021364, -0.013856370367530726, -0.004510228803608557, 0.011856210865221187, 0.00763218911863692, -0.016711862075375183, -0.009954742680791029, -0.039713701474208836, 0.012895767981717992, 0.050556672535172036, -0.0058294131834086774, -0.01839620731156113, 0.002281432412535001, 0.004154937172142926, -0.00885597114609561, 0.013987960654014973, 0.005240550516380202, 0.0011489404827574488, -0.03071298138550957, 0.022896566424588226, -0.003342372461641164, -0.03502911558757478, -0.0047602488578125665, 0.005763618505827822, 0.023896646641404264, -0.05563602741861376, -0.0007167513538834059, -0.009099411406578647, 0.017001358097937423, -0.020396367745193204, 0.008112490777204556, -0.047872247082170055, -0.022488639702983686, -0.03147620206688608, 0.006783437172484244, -0.013283956253482148, 0.01627761617888675, -0.005990610213330962, 0.02235704941649944, 0.015435444492116316, -0.020567433068713142, -0.01789616720315311, -0.002396573214716814, 0.013869529954972674, -0.013987960654014973, -0.019159426130292565, -0.026186303097598576, 0.01675133897505595, 0.010698223981004621, 0.004365480326666169, -0.012797075732516075, -0.0036779256432664113, -0.026607389406645063, 0.010744279743083824, -0.021383288374567294, 0.008790176002853489, 0.035713380606944685, -0.008967822051416937, 0.002010029192890999, 0.0016341766373698633, -0.03076561787263228, 0.0035891026189846863, 0.007619029996856242, 0.007105831232328813, -0.016185504654728344, 0.02235704941649944, 0.009257319005301714, 0.00393452525836076, 0.022199143680421446, 0.013283956253482148, -0.0111522073960109, 0.008151967676885322, 0.011494339905695853, -0.023962440853323847, 0.012000958876502307, -0.026804773905048897, -0.016422366052812946, 0.010790336436485564, 0.015474921391797083, -0.0337395393481965, -0.027686423422822633, -0.008263818582206648, 0.003391718586242122, -0.013185264935602767, 0.0008865840138185168, -0.004605631155949987, 0.01192200600846331, -0.011520658149257209, 0.012527317228471684, 0.019751579625504063, 0.0283180538177149, -0.008441464630770099, 0.010935084447766683, 0.011783836859580628, 0.024475640549173814, 0.02562046877727097, 0.0006970129622506813, -0.029791854968055063, -0.018462001523480712, 0.02691004501664925, -0.00982315332562932, -0.017172425284102438, -0.018054074801876173, 0.017027677272821316, -0.004849071882094292, 0.008428305043328152, 0.02763378693569992, -0.008165126333004733, 0.0004515163416068653, 0.05700455745735357, 0.005789936283727911, -0.03458171196628947, 0.008941503807855581, -0.00040443199199366236, -0.0018998228867539648, -0.010553475038400964, 0.007875629379119956, 0.013283956253482148, -0.004924735784595338, 0.029528676257731642, 0.02426509832597311, -0.01943576442805793, 0.017080311897298958, -0.015080152394989417, -0.0025265178542789144, 0.011474601455855469, -0.008592792435772191, -0.0052471298444399074, -0.0017715231956221074, 0.00341803636414221, 0.018462001523480712, 0.016738179387614006, -0.039003117279955035, 0.018988360806772627, 0.0037634587706876495, 0.004970792012335809, -0.03602919580439082, -0.03673977999864461, 0.015461761804355137, -0.012244400068307881, -0.014619590117584702, -0.01765930580506851, -0.018909407007411092, 0.014343251819819335, 0.011796995515700038, 0.03929261330251728, -0.007322953714911761, 0.009303375698703454, 0.006546575774399644, -0.05197783719838949, -0.008066434083802816, -0.01343528405848424, 0.02559415146503215, 0.022962362499152882, 0.00963234862094646, 0.0072900566089519675, -0.001406362455651602, 0.016935563886017836, -0.013376069640285627, -0.0008199668620225404, -0.013948483754334207, -0.003434485149952741, 0.02638368759600241, 0.03181833271392596, 0.01296156219363758, 0.0022962362499152882, 0.001799485921952439, -0.028739140126761386, -0.035555473008221615, -0.003760168873827163, -0.010428465476960228, 0.02252811660266445, 0.003255194385789682, 0.012237820274586907, 0.0017600091386869895, 0.003793066445448224, -0.017238219496022025, -0.0035759437300346424, -0.013474760958165008, 0.02314658741011477, 0.020093712135189016, 0.0052569990693600984, -0.008138808089443375, -0.008704643341093518, 0.005599131579045052, 0.003151567756958304, 0.008507258842689686, -0.010178445422756218, 0.01619866237952522, 0.007737460695898542, -0.009066514300618854, 0.001234473726594004, -0.6442620491158331, 0.006007059231972127, 0.008711222203491955, -0.01265232678991242, 0.012954983331239142, 0.01275759883283531, 0.0009079672956738264, -0.0019179165045794216, -0.008737540447053311, 0.012856291082037227, 0.004052955491741791, -0.012033856913784637, -0.03000239905390084, -0.006145227915193542, 0.005460962895823636, -0.01600127974376646, 0.016882929261540197, -0.022225460992660265, -0.010935084447766683, 0.008303295481887416, 0.0060136385600318325, 0.0353712499599048, -0.02302815671107247, -0.004533257150309427, -0.011757518616019272, 0.01255363547203304, 0.027975921308029946, -0.0007525272360114422, 0.01883045320804956, -0.003681215307296264, -0.014027436622373204, 0.019948962261262825, -0.011218001607930485, -0.02781801370930688, 0.04729325503704558, -0.0005234793429704984, 0.0025791536429097253, 0.026436324083125122, 0.018027757489637353, 0.03518702318629784, -0.03466066576565101, -0.03471330039012865, 0.008434884837049125, 0.007250579709271201, 0.017435603994425855, -0.0027567992258119064, 0.0005094979798053326, 0.012474681672671507, 0.010895607548085917, -0.042608669150411525, 0.004237180868364946, 0.0011366040680225262, 0.0015815408487390525, 0.005855731426970034, 0.014330093163699925, 0.010435044339358664, 0.037081910645684495, 0.0067965958286036535, 0.025870489762797516, -0.012626009477673599, 0.03602919580439082, 0.01672502166281713, -0.02992344525453931, -0.008224341682525883, -0.02055427534391627, 0.02154119597329036, -0.004990530462176192, 0.00925073921158074, -0.026567912506964296, -0.0034081671392220186, 0.026541595194725476, 0.007961162972202463, 0.004793146429433628, -0.008171706126725705, -0.009079672956738264, 0.03534493078502091, 0.01792248451539193, -0.014395887375619512, 0.0038753096760089758, 0.0019458792309097533, 0.015974960568882566, -0.010941664241487657, 0.0031236050306279726, -0.019067312743489086, 0.01742244440698391, -0.03829253308570124, -0.003641738407615497, -0.014027436622373204, -0.01526437823727384, 0.002692649496661295, 0.018988360806772627, 0.009684985108069172, -0.017830372991233523, -0.038345171435469026, -0.020330571670628544, -0.0013660631981710308, -0.00782299382331978, -0.011283796751172609, 0.0161723450672864, -0.0040957222882830446, -0.0026153406457300053, 0.0019590381198597976, 0.018304093924757646, 0.023659785243319662, -0.019580512439339053, 0.006148517812054028, 0.006178125486814603, 0.012290455830387084, 0.028765457439000205, -0.025633628364712918, 0.0006456108267348944, -0.0020610200330915666, 0.013178685141881795, 0.016975040785698604, 0.007888788035239366, -0.031555152140957464, -0.0011514077889874968, 0.021699103572013427, 0.015448603148235728, -0.03345004332563426, 0.028528596040915604, -0.007494019969754237, -0.006263658614235842, -0.002161356997893092, 0.014514318074661811, 0.010316614571638901, -0.015027516839189242, -0.01838304772411918, -0.023896646641404264, -0.0158170529701595, -0.004141778516023516, 6.944428321918284e-05, -0.020291094770947777, -0.004497070147489147, 0.02626525689696011, -0.006428145541018613, 0.025330972754708733, -0.013751099255930373, 0.011250899645212815, 0.008625689541731985, -0.01240230673570841, -0.018251459300280007, 0.0013504368865756217, 0.014027436622373204, -0.009744199526267787, 0.007697983796217775, 0.0011341367617924785, 0.0061156202404329665, -0.006882128956024892, 0.0006649380394677169, -0.006803175156663358, -0.010566633694520374, -0.018317253512199594, 0.0219491226948949, -0.003320989063370537, -0.03071298138550957, -0.0008536866750280894, -0.027686423422822633, -0.02262022998946793, -0.02734429091313768, 0.01072454129324344, 0.015185424437912307, -0.004365480326666169, 0.005375429768402398, -0.01625129886664793, -0.002602181756779961, -0.007000559655067191, 0.013343171603003297, -0.014001119310134383, -0.00923758055546133, 0.01686976967409825, -0.024844090371097586, -0.0093231132172213, 0.016303935353770643, 0.01323132069768197, 0.036529234050153764, 0.0023636758759263865, -0.018225140125396114, 0.022699183788829465, -0.00517146594193886, -0.009533656371744543, -0.01634341225345141, -0.0048688103319346745, -0.014172185564976859, 0.009027037400938086, 0.009138888306259413, 0.020672704180313497, 0.0036351590795557923, -0.023343971908518602, 0.01934365104125445, 0.005280027416060968, 0.02192280538265608, -0.009165206549820771, 0.023067633610753237, -0.012928665087677786, 0.01893572431964991, 0.012343092317509796, -0.007849312066881137, 0.0025890226349992826, 0.022751818413307104, 0.0109153459979263, -0.014659066085942932, 0.016185504654728344, 0.007546655991215682, 0.024844090371097586, -0.03634501100183695, 0.015461761804355137, -0.009553394821584927, 0.026212622272482472, 0.00018258038453716736, -0.0011069963932619513, -0.03481857336437407, -0.0030808384669173535, -0.01873833982124608, 0.015922325944404927, 0.05837308749609338, -0.008658586647691778, 0.034134308345004166, -0.012737860382994926, -0.01142854476245373, -0.013007618887039319, 0.015093311982431364, 0.0125075787786313, 0.004993820359036679, 0.011250899645212815, 0.021014838552643522, 0.003018333453366351, 0.019040995431250266, -0.002709098049641192, -0.07132149196493409, 0.008401987731089331, 0.0033950082502719743, -0.004618790277730665, 0.019883168049343238, -0.010185024285154654, -0.005273447622339995, 0.0015297275343233634, -0.0011678564583827104, 0.020817454054239688, -0.014580113217903935, -0.011395647656493936, 0.005799805508648103, 0.0005255354120929855, -0.022725501101068284, 0.015711781858559145, 0.02405455424012733, 0.01856727449772614, -0.010349511677598695, -0.027081112202814263, 0.012632588340072037, -0.018869930107730325, 0.028791774751239025, 0.0026104060332699094, 0.012027277120063665, -0.010112650279514095, 0.007612450668796537, 0.0015930550220894875, 0.005467542223883341, 0.052872648166250244, 0.025252018955347198, 0.014606430530142754, 0.011119310290051107, 0.0029147065917043387, -0.0029426693180346704, -0.0015535781224087209, -0.018580432222523015, 0.0065005195466591725, -0.023080793198195185, -0.01996212184870477, 0.007987480284441283, -0.019093631918372978, -0.016948723473459784, -0.005365560543482206, -0.024107190727250042, 0.027396927400260396, 0.011435124556174701, -0.010185024285154654, 0.019225220342212152, 0.002444274390887529, 0.01800143831475346, -0.028160146218991832, -0.030133987477740015, 0.02008055254774707, 0.012527317228471684, -0.0010099492089055953, -0.01515910619435095, -0.027502198511860747, 0.012968141987358552, -0.01885677052028838, -0.0127444401767159, -0.02460723083565806, 0.032213101710733626, 0.00118019298953295, -0.00938232856674245, -0.021751738196491066, -0.009481020815944366, 0.055583389068845974, -0.0014507738513771472, -0.0022896566890249492, -0.013987960654014973, -0.020212142834231315, 0.011783836859580628, -0.008237500338645292, -0.00829013589444547, 0.046082632597028834, 0.008711222203491955, 0.007243999915550228, 0.002643303372060337, -0.002204123561603711, -0.0278443310215457, -0.00033616994997510107, 0.003327568624260876, 0.0217122612968103, 0.006697904045063006, -0.004418116348127614, 0.0010905477238667377, 0.0017731680276370336, -0.01754087510602621, 0.018790976308368793, 0.03552915755862787, 0.011704883060219095, 0.00613535869027335, 0.008415146387208743, 0.01625129886664793, 0.02300183939883365, 0.005026717464996473, -0.0386873020825089, -0.0075663944410560655, -0.03408166999523638, 0.0010428465476960227, -0.05437276662882923, -0.002950893827355253, -0.00025228168367261844, 0.01698820037314055, -0.030976160095832986, 0.025607309189829026, 0.01987000846190129, 0.0032749328356300655, 0.035160704011413954, 0.02285708952490746, 0.00702687743296728, -0.0026465930360901895, -0.014593271874023345, -0.04981977289132449, -0.010625849044041524, 0.017067154172502083, -0.008908606701895787, -0.01696188306090173, 0.012172025131344784, -0.026396847183444358, 0.0003994974086373958, 0.015843372145043392, -0.026081031985998225, -0.03239732475905044, 0.013540556101407131, 0.021027996277440394, 0.0011843052441932412, 0.003793066445448224, -0.014566953630461989, 0.033528997124995796, 0.00381609455931846, 0.028002238620268766, 0.013402386952524449, 0.0011629219623379317, 0.01600127974376646, 0.03271313995649657, 0.009165206549820771, -0.022225460992660265, -0.002070889258011758, -0.012198343374906141, 0.037424045018014516, 0.01315236689832044, 0.0034805413776932124, -0.02014634675966666, 0.014514318074661811, -0.021396447962009242, -0.04089800473934169, -0.0007570506695716357, 0.005701113725107455, -0.014764338128865821, -0.0036022617407653647, 0.015053835082750598, -0.007079513454428725, 0.01188910797118098, -0.01590916635696298, -0.026620548994087008, -0.015422285835996906, -0.0146985429856237, -0.008684904891253134, 0.011487760111974879, 0.009790256219669526, -0.010000799374192768, -0.0035923925158451732, 0.003585812954954834, -0.006862390506184509, -0.04255603452593388, -0.030686664073270746, -0.008428305043328152, 0.007559814647335092, 0.02106747317712116, 0.01873833982124608, -0.018712022509007258, -0.003314409735310832, 0.006641978126741074, -0.007211102809590434, -0.01554071560371667, -0.01713294838442167, -0.031107750382317233, -0.007724301574117864, 0.001078211192716498, -0.029897126079655417, -0.020962202065520807, -0.01500119952695042, -0.0038325431122983567, 0.039976878321887184, -0.03700295684632296, 0.04013478592061025, 0.01751455779378739, -0.005776777627608501, 0.01761982890538774, 0.047082709088554726, 0.012665486377354367, 0.011191684295691666, -0.039003117279955035, 0.012915506431558376, -0.004500359578688365, -0.011803575309421012, -0.01964630665125864, 0.019751579625504063, -0.0029476039304947663, -0.001609503691484701, 0.009895528262592415, 0.02240968590362215, -0.014738019885304465, 0.018777816720926845, 0.03587128820566775, 0.007605871340736832, -0.02472566153470036, 0.0037108229820568385, 0.005562944576224771, 0.017317173295383556, -0.0044214062449881, -0.003743720320847266, -0.011790415721979065, -0.011968061770542514, -0.03073929869774839, 0.036108149603752346, -0.0025791536429097253, -0.007757199145738925, 0.014474841174981046, -0.0002966931376058223, 0.0008076303308723007, -0.005023428033797254, 0.004714192630072095, -0.021343811474886527, 0.028449642241554073, 0.007711142917998453, -0.02688372770441043, -0.02077797715455892, -0.015488080047916493, -0.026159985785359757, 0.018514638010603428, 0.014685384329504288, 0.002445919106487138, -6.589753778944629e-05, 0.01588284904472416, -0.004789856532573141, -0.009888948468871442, 0.0030018846675558203, -0.03850307903419209, -0.012803654594914513, 0.010527157726162145, 0.007191364359750051, 0.04795120088153159, -0.011961482908144078, 0.023620308343638895, 0.0014614655505124606, -0.02381769284204273, 0.008276977238326058, -0.03447643899204405, -0.02417298493916963, -0.006092592359393365, 0.020567433068713142, 0.04384561076531216, 0.04579313284917645, -0.0007673310733917297, 0.0011242675368722868, 0.014830133272107944, -0.003924656033440568, 0.012099651125704224, 0.011316693857132402, -0.002421246277017293, -0.02863386715251596, 0.016527637164413297, 0.03181833271392596, -0.0059182362076904025, 0.016238139279205987, 0.001406362455651602, 0.026054714673759406, 0.00627681773601652, 0.01405375486593456, -0.029870808767416594, 0.0074677021918541486, -0.034239577593959444, -0.007388748392492616, 0.03181833271392596, 0.0024047974912067625, 0.017804053816349627, -0.010257399222117752, -0.004993820359036679, 0.01710663107218285, 0.0011242675368722868, 0.01672502166281713, 0.02375189863012314, 0.025633628364712918, 0.012829972838475869, 0.025462561178547904, 0.009724461076427403, 0.0017583641902567462, -0.001865280715948611, 0.003090707691837545, -0.034002716195874846, -0.011250899645212815, 0.029028636149323623, 0.028870728550600556, 0.011389067862772962, 0.011764098409740244, -0.008579632848330245, -0.007415066636053972, 0.008421726180929715, -0.005921526104550889, -0.01346818209576657, -0.019277856829334864, -0.01059295193808173, -0.029502358945492822, -0.044371968185958996, -0.0046780056272518146, -0.02017266593455055, 0.012093072263305787, 0.02781801370930688, -0.017369809782506268, 0.03642396480119848, -0.009612610171106076, -0.01940944711581911, -0.00021136558508262065, 0.021791215096171834, 0.032265736335211265, -0.000539105596358249, 0.029291814859647044, 0.03052875647454768, 0.00274035067283201, -0.0061320692590741315, 0.016093391267924865, 0.02415982535172768, 0.012277297174267674, 0.00948760060966534, 0.007829573617040753, 0.0014458392389170515, -0.02966026654421589, 0.023186064309795536, -0.03308159350371049, 0.01677765628729477, -0.04371402234147299, -0.012849711288316253, 0.014224821120777036, 0.01567230495887838, -0.003332503236720972, 0.004585892706109603, -0.00029463703937950594, 0.005819543958488486, -0.0057504598497084124, -0.006530127221419747, -0.019751579625504063, 0.008454623286889508, -0.018804134033165665, 0.005043166483637638, -0.0335026779501119, 0.00961918996482705, 0.0065038094435196595, -0.0053326629718611455, 0.011599611017296205, -0.018606751397406907, -0.010060014723713918, -0.008355931037687591, 0.0007759666451968973, 0.001279707596534671, 0.01893572431964991, 0.022225460992660265, -0.012093072263305787, 0.01696188306090173, -0.013119469792360646, -0.0036516076325356886, -0.003283157112120014, 0.02947603977060893, -0.02498884024502378, -0.010803495092604974, 0.0011579873498778358, -0.012856291082037227, 0.0008035181926273267, -0.00036721686730065107, -0.020001598748385536, -0.02697584109121391, 0.00986921001903106, -0.02034373125807049, 0.008619109748011012, -0.0010132388729354477, -0.020422685057432024, 0.008500679048968712, -0.002801210737952769, -0.028265417330592187, -0.005355691318562015, 0.017382969369948216, 0.01943576442805793, -0.028528596040915604, -0.010158706972915835, -0.014251139364338392, 0.0017155976265461272, 0.030344531563585794, 0.021791215096171834, -0.02030425435838972, 0.001987000846190129, 0.04110855068783254, 0.005763618505827822, 0.030502437299663787, -0.002909771979244243, 0.011145627602289926, -0.0111522073960109, 0.003000239719125577, -0.0033884286893816353, -0.025607309189829026, 0.007592712218956153, -0.025791535963435985, 0.0041154607381234274, -0.01972526045062017, -0.021501719073609593, 0.004875389659994379, 0.0043029755459458, 0.007191364359750051, 0.002975566889655732, -0.010836392198564767, 0.02069902335519739, -0.03395008157139721, 0.00596758233229136, 0.010731121086964413, 0.013632668556888074, -0.0010296875423306615, 0.026344210696321643, -0.01710663107218285, -0.028265417330592187, 0.01704083499761819, -0.003067679345136675, -0.001720532239006223, -0.039608428499963405, -0.03479225418949018, -0.015053835082750598, 0.011007458453407244, -0.02037004857030931, 0.006612370451980499, -0.007592712218956153, 0.0013413901358705516, -0.016119710442808757, -0.002154777437002753, 0.012165446268946348, -0.023014997123630525, 0.009553394821584927, 0.01754087510602621, 0.012731280589273952, 0.0033950082502719743, -0.0293970859712474, -0.014882768827908122, -0.0009943228973101862, -0.01981737383742365, -0.022646547301706753, 0.017001358097937423, -0.02635737028376359, 0.05321477881329013, -0.006901867405865275, -0.018804134033165665, -0.025225699780463306, 0.009204683449501537, -0.03197624031264903, 0.002640013708030484, -0.012632588340072037, 0.0016193729164048927, 0.0024903306186280006, 0.02154119597329036, -0.01771194229219122, 0.012428624979269767, 0.001225426859473617, 0.019198903029973333, -0.010487680826481377, 0.006497229649798686, -0.0012542120600190702, 0.009454703503705546, -0.020883248266159275, -0.012797075732516075, -0.03600287662950692, 0.0008277799596125864, 0.008724381790933902, -0.026752139280571255, -0.017172425284102438, 0.009671825520627226, -0.010935084447766683, -0.019948962261262825, 0.016067073955686045, 0.015974960568882566, -0.0005925638009965229, -0.024304575225653876, 0.022988679811391705, -0.019567352851897105, -0.00258573297096943, -0.0009935004230950644, -0.004365480326666169, -0.026725820105687362, -0.023567673719161256, 0.02460723083565806, 0.020277937046150902, -0.007796676045419691, -0.022383368591383332, 0.009731040870148375, 0.01914626654285062, -0.01589600676952103, 0.011007458453407244, 0.026291576071844003, -0.003737140759956927, 0.03271313995649657, 0.0013644182497407876, -0.00014958020736602047, -0.005862310755029739, -0.017646148080271637, -0.01804091521443423, 0.009842891775469702, 0.012487840328790916, 0.0037404306568174137, 0.01600127974376646, -0.01704083499761819, 0.03547651920886009, -0.0251335882563049, 0.01905415501869221, 0.008500679048968712, 0.01206675401974443, -0.02866018632739985, 0.041266458286555605, -0.019988439160943592, -0.015474921391797083, 0.010277137671958135, -0.0037897765485877376, -0.006197863936654987, -0.01634341225345141, -0.009711302420307993, 0.0005592552250985347, -0.029054953461562446, -0.017527717381229335, 0.00800063987188323, -0.02858123252803832, -0.02148855948616765, 0.002783117236542629, -0.01231677407394844, -0.0009885658106349687, 0.0006945456560206333, 0.1344318036974293, -0.02650211829504471, -0.019304174141573684, -0.0027600891226723934, -0.016685544763136363, 0.0026646867703309634, 0.021909645795214133, -0.003964132467460067, -0.01404059620981515, -0.006411696522377448, 0.008428305043328152, 0.008980980707536347, -0.025028317144704545, 0.006470911871898598, 0.01088902868568748, -0.024304575225653876, -0.020383208157751256, -0.012073333813465405, 0.004809594982413525, 0.03202887493712667, 0.01905415501869221, 0.007612450668796537, -0.011382489000374526, -0.030976160095832986, 0.03331845117650494, -0.004233890971504459, -0.003320989063370537, 0.006243920164395458, 0.0187646571334849, 0.010849551786006714, -0.031502517516479825, 0.016435523777609817, 0.018198822813157295, 0.0024311152691068507, -0.031449882892002186, 0.0030446512312664394, 0.015435444492116316, -0.0004617967745307885, 0.012691803689593186, 0.05376745540882086, 0.0059182362076904025, -0.0015157461711581975, 0.01085613064840515, -0.013895847267211494, 0.010816653748724384, 0.014422205619180868, -0.006658427145382239, -0.032055194112010556, -0.014856450584346766, -0.009895528262592415, -0.009303375698703454, -0.003041361567236587, 0.01554071560371667, 0.027028475715691547, 0.004691164283371225, 0.01187594931506157, -0.010875869098245533, 0.028870728550600556, -0.0020873378109916548, -0.021672784397129535, -0.013869529954972674, 0.016790815874736718, -0.010211342528716012, 0.0007183962441059908, 0.00898756050125732, 0.005243840413240689, 0.010448203926800612, 0.0029689873287653927, 0.04255603452593388, -0.030502437299663787, -0.004207573193604371, 0.016935563886017836, -0.009388908360463423, -0.019475241327738698, -0.0162907757663287, -0.019659466238700584, 0.020185823659347422, 0.013711622356249608, 0.010796915298884, 0.002656462261010381, 0.01084297199228574, -0.015106470638550775, -0.020738500254878157, 0.005783356955668206, -0.01893572431964991, -0.035292296160543274, 0.03463434659076711, -0.0022353759519638952, 0.0024179563801568064, -0.010658747081323854, 0.01672502166281713, 0.0036779256432664113, -0.021764897783933014, -0.024712501947258412, 0.014027436622373204, -0.0006982466153657051, -0.002365320591525996, 0.005878759308009636, -0.005016848240076281, -0.015567033847278026, -0.02671266238089049, 0.03929261330251728, 0.023515037232038544, 0.019633148926461765, 0.012685224827194749, 0.02918654374804669, -0.01405375486593456, 0.00393452525836076, 0.01861990912220378, -0.0029130618761047298, -0.022975520223949757, -0.04274025757425069, 0.03579233440630622, 0.01188910797118098, -0.012639168133793009, 0.011362750550534142, 0.004753669529752862, -0.003375269800431591, 0.012547055678312066, 0.01315236689832044, 0.00561229070082573, -0.035502838383743976, -0.01850147842316148, 0.007059775004588342, -0.008211183026406473, 0.013777417499491731, -0.0278443310215457, 0.009671825520627226, -0.014988039939508474, 0.005845862202049842, 0.006043246234792407, -0.027686423422822633, -9.60191861748991e-05, 0.008954663395297527, 0.01259311144039127, 0.005214232738480114, 0.023396606532996245, -0.010007379167913742, -0.0026893595998008085, 0.015606510746958794, 0.004171386190784091, 0.0015724940980339824, 0.012073333813465405, -0.0001636643943599911, -0.015724941446001093, -0.019291016416776812, 0.03052875647454768, 0.012876029531877609, 0.004240470765225432, 0.003149922808528061, -0.01526437823727384, -0.002896613090294199, 0.006092592359393365, 0.0022024786131734676, 0.011987800220382898, 0.007066354332648047, -0.03492384261332935, -0.001695859293121061, 0.0021745158868431364, -0.009277057455142096, -0.03889784430570961, -0.007928264934920133, 0.023159745134911643, -0.0034246159250325495, -0.0013537266670207912, -0.01589600676952103, -0.1656974486399541, -0.0273706082253765, 0.0009474441371469344, -0.01883045320804956, 0.00930995456110189, 0.019777896937742883, 0.0009129019081339222, 0.041871769506563974, -0.018580432222523015, 0.011573293705057386, -0.002348872038546099, -0.016540796751855245, 0.0018488320465533973, -0.019422604840615986, 0.004013478592061024, -0.0005995544825791058, -0.011639087916976971, 0.017053994585060135, 0.015330172449193427, 0.008836232696255228, 0.041082231512948646, -0.02813382704410794, -0.009454703503705546, -0.002676200710850764, 0.006016928456892319, 0.017554034693468154, 0.013856370367530726, 0.03810831003738442, -0.004349031773686273, -0.0393978862767627, 0.004691164283371225, -0.02944972245837011, 0.028344371129953718, 0.013415545608643858, 0.025870489762797516, 0.01893572431964991, -0.0003071791599796966, -0.01586968945728221, -0.015040675495308652, 0.006928185183765363, -0.008783597140455051, 0.019606829751577872, -0.00530305529710057, 0.018172505500918475, 0.013514237857845774, 0.010066594517434892, 0.01367214545656884, -0.01760667118059087, 0.012343092317509796, 0.002595602195889622, 0.031160385006794872, -0.012441783635389177, 0.03334477035138884, 0.0032634186622796306, 0.037976721613545254, 0.013830053055291907, 0.00028230053733309564, -6.877605929918308e-05, -0.010040276273873536, -0.012349671179908234, -0.024041394652685382, -0.016909246573779017, 0.02148855948616765, 0.0002950482473832375, 0.010375828989837514, -0.027528515824099566, -0.004309554874005506, -0.014659066085942932, 0.006477491665619571, 0.009349431460782657, -0.008948083601576555, -0.0031959792690991664, -0.030949842783594167, -0.031186704181678765, 0.0010946598621117119, 0.022172824505537553, -0.003248614824899343, 0.02868650363963867, 0.0036976640931067947, -0.007118989888448223, -0.004464172575868086, 0.012731280589273952, -0.013027357336879703, -0.017948803690275822, 0.00016345879035812533, -0.024462480961731866, -0.00192614078106937, -0.002602181756779961, 0.001261613978709214, -0.011375909206653552, 0.023725581317884322, -0.029791854968055063, -0.0339764007462811, -0.024765136571736054, 0.015856529869840267, 0.002807790298843108, -0.016803975462178662, -0.008902026908174814, 0.010625849044041524, -0.015040675495308652, -0.03681873379800615, 0.015974960568882566, -0.0065005195466591725, 0.0011341367617924785, 0.008724381790933902, 0.00011051458844855862, -0.005766908402688309, 0.00038017019590457337, 0.024738819259497235, -0.003385139025351783, 0.01454063631822317, -0.020449002369670843, 0.0162907757663287, 0.050293495687493694, -0.01393532416689226, 0.018462001523480712, -0.01926469724189292, -0.005108961161218492, 0.018685703334123366, -0.01839620731156113, 0.027923284820907234, -0.007494019969754237, -0.026686343206006595, -0.0022238620114440944, 0.0018258038162678443, -0.011941744458303694, -0.10279769030653002, -0.01722506177122515, 0.007007138983126896, 0.018988360806772627, -0.014711702573065645, 0.018896247419969148, 0.009790256219669526, 0.022014916906814487, -0.022843931800110583, 0.036108149603752346, -0.03389744694691957, -0.03316054357778188, 0.001709018182071105, -0.02235704941649944, 0.008257238788485676, -0.027791694534422987, -0.0088428124899762, -0.013132628448480056, -0.030160304789978835, 0.028554913353154427, -0.006059694787772304, 0.018264617025076882, 0.013856370367530726, 0.0031795304832886355, -0.01663290827601365, 0.017961961415072693, -0.012836552632196843, 0.028370688442192538, 0.010125809866956041, -0.013751099255930373, 0.011520658149257209, -0.032871047555219635, -0.011882529108782545, -0.01343528405848424, 0.01818566508836042, -0.003562784841084598, -0.002156422385432996, -0.00519449428863973, 0.028870728550600556, -0.01514594753823154, 0.007776937595579308, -0.003506859155593301, 0.011296955407292019, -0.007513758419594621, -0.015251218649831894, -0.027133748689936975, -0.011704883060219095, 0.03176569808944832, -0.010119230073235069, -0.009829733119350292, -0.04292448434785765, -0.026699502793448543, -0.0483986045028169, -0.010553475038400964, -0.010106071417115657, -0.020843771366478508, 0.018817293620607613, -0.01063900863148347, 0.0026844252201713467, 0.008757278896893695, 0.014645907429823522, -0.0005473299310558559, -0.013020777543158729, 0.02127801726296694, -0.009342851667061683, 0.004082563166502367, -0.02547572076598985, -0.018540955322842247, 0.013777417499491731, -0.012415466323150357, -0.00763218911863692, 0.0109153459979263, -0.006737380479082504, 0.01573810103344304, -0.021001678965201574, -0.02405455424012733, 0.008224341682525883, -0.008033536977843023, 0.015659147234081506, -0.020620069555835854, -0.016975040785698604, -0.010619270181643088, -0.01225755872442729, -0.02369926214300043, 0.013356331190445245, -0.009158626756099797, -0.014211662464657627, -0.004967502115475322, -0.016514477576971352, -0.010658747081323854, 0.0036779256432664113, 0.016764498562497898, 0.017356650195064324, 0.013606350313326717, -0.019685783550939404, -0.004641818624431535, 0.002694294212260904, 0.005859020858169252, -0.005368850440342693, 0.012678645033473776, -0.024409846337254227, -0.009303375698703454, -0.02592312438727516, 0.004237180868364946, -0.0034081671392220186, 0.006638688695541856, 0.020909565578398095, -0.0031005766839271023, 0.015777576070478732, -0.018369889999322306, 0.006882128956024892, 0.02283077221266864, -0.02787064833378452, -0.003664766521485733, 0.005530047470264978, -0.00272225717142187, -0.004454303350947894, -0.0013685303879857618, 0.01596180284408569, -0.012560214334431476, 0.010461362582920021, 0.013540556101407131, 0.01173120130378045, 0.022699183788829465, 0.0158170529701595, 0.038003037063139, -0.011790415721979065, -0.004697744077092198, 0.007013718311186602, 0.01636972956569023, -0.0057504598497084124, 0.004365480326666169, -0.009967902268232975, -0.017185584871544382, -0.021593830597768, 0.027449562024738035, -0.01809355170155694, 0.0014746244394625047, -0.016067073955686045, 0.024409846337254227, 0.011579872567455822, 0.056109746489492816, -0.024409846337254227, -0.046661624642153315, 0.019212062617415277, -0.0011851276019930457, -0.025831012863116752, -0.014566953630461989, -0.0566361076354298, -0.013724781012369017, 0.017764578779313936, -0.002554480580609246, 0.033634266373951074, 0.007250579709271201, -0.026607389406645063, -0.005609000803965243, -0.04855651210153996, 0.0035233079414038315, 0.017738259604430043, -0.0028242388518230047, -0.000348095273121609, -0.019106789643169853, 0.02594944356215905, 0.040476920292940276, 0.010211342528716012, 0.018225140125396114, -0.0029969500550957244, -0.0053458220936418235, -0.01727769639570279, 0.02255443391490327, 0.012356250973629206, -0.027002158403452728, 0.009842891775469702, 0.0012336512523788824, 0.010027117617754126, 0.007724301574117864, 0.015580192503397436, -0.0018044205344125348, -0.006053115459712598, 0.018606751397406907, -0.022185984092979498, 0.02813382704410794, -0.00014515962673846105, -0.010336352090156748, -0.012198343374906141, 0.012277297174267674, 0.0335026779501119, 0.021001678965201574, -0.00696766208344613, -0.02180437468361378, 0.04292448434785765, -0.029133907260923977, 0.009138888306259413, 0.02285708952490746, -0.0033950082502719743, 0.01225755872442729, -0.011014038247128216, 0.0010305100165457833, -0.011099571840210723, -0.01444852293141969, 0.022975520223949757, 0.03197624031264903, 0.03239732475905044, -0.0041615169658639, 0.008678325097532162, -0.0021860300601935713, -0.034292215943727236, 0.03173937891456442, -0.0166460678634556, -0.03426589676884334, -0.0035233079414038315, 0.020883248266159275, 0.01763298849282969, 0.01552755694759726, -0.015830212557601447, -0.004908287231615441, -0.010375828989837514, 0.043266614994897534, 0.0037141126460866914, -0.0018767947728837288, -0.03476593873989643, -0.007125569682169196, -0.0020626649815218097, -0.012152287612826938, 0.012244400068307881, -0.012474681672671507, 0.008395407937368359, 0.039608428499963405, -0.01715926569666049, -0.034397485192682514, 0.011882529108782545, -0.004914866559675146, -0.00763218911863692, 0.006095881790592584, -0.015290695549512661, -0.014909086140146941, -0.038950482655477396, -0.0070860927824884295, 0.0060235077849520235, 0.006464332543838893, -0.03197624031264903, 0.07016350042410484, 0.026686343206006595, 0.0029360899899749655, 0.00776377847379863, -0.009158626756099797, -0.0033045405103906402, 0.012777337282675693, 0.019527875952216337, -0.0023143297513254285, 0.013948483754334207, 0.004447724022888189, -0.0005407504865808338, 0.0035693641691443034, 0.0036088410688250696, -0.0037338510959270743, 0.00789536782896034, -0.002950893827355253, 0.016698702487933238, -0.005602421475905538, 0.00022534696279970107, 0.011902267558622929, 0.006882128956024892, 0.020383208157751256, -0.002468947453188008, -0.025673105264393686, 0.007303215265071377, 0.034134308345004166, -0.001931075393529466, -0.003579233394064495, -0.011994380014103872, -0.001963972732319893, 0.000981164008360142, -0.0441351067878744, -0.011218001607930485, 0.005819543958488486, -0.02204123608169838, 0.0009054999894437785, -0.02305447402331129, 0.022514957015222506, 0.01672502166281713, 0.006928185183765363, 0.03602919580439082, -0.005510309020424595, -0.0280811924196303, 0.008026957184122049, -0.019396287528377167, 0.005447803774042958, -0.014172185564976859, -0.0250151575572626]\n"
     ]
    }
   ],
   "source": [
    "query_result = embeddings.embed_query(texts[0].page_content)\n",
    "print(query_result)"
   ]
  },
  {
   "cell_type": "code",
   "execution_count": 26,
   "metadata": {},
   "outputs": [
    {
     "data": {
      "text/plain": [
       "1536"
      ]
     },
     "execution_count": 26,
     "metadata": {},
     "output_type": "execute_result"
    }
   ],
   "source": [
    "len(query_result)"
   ]
  },
  {
   "cell_type": "code",
   "execution_count": 27,
   "metadata": {},
   "outputs": [
    {
     "name": "stderr",
     "output_type": "stream",
     "text": [
      "/home/hassan/anaconda3/envs/py09/lib/python3.9/site-packages/pinecone/index.py:4: TqdmWarning: IProgress not found. Please update jupyter and ipywidgets. See https://ipywidgets.readthedocs.io/en/stable/user_install.html\n",
      "  from tqdm.autonotebook import tqdm\n"
     ]
    }
   ],
   "source": [
    "import os\n",
    "import pinecone\n",
    "from langchain.vectorstores import Pinecone\n",
    "\n",
    "\n",
    "pinecone.init(\n",
    "    api_key=os.getenv('PINECONE_API_KEY'),  \n",
    "    environment=os.getenv('PINECONE_ENV')  \n",
    ")"
   ]
  },
  {
   "cell_type": "code",
   "execution_count": 29,
   "metadata": {},
   "outputs": [],
   "source": [
    "index_name = \"langchain-quickstart\""
   ]
  },
  {
   "cell_type": "code",
   "execution_count": 30,
   "metadata": {},
   "outputs": [],
   "source": [
    "# First, check if our index already exists. If it doesn't, we create it\n",
    "if index_name not in pinecone.list_indexes():\n",
    "    # we create a new index\n",
    "    pinecone.create_index(\n",
    "      name=index_name,\n",
    "      metric='cosine',\n",
    "      dimension=1536  \n",
    ")"
   ]
  },
  {
   "cell_type": "code",
   "execution_count": 31,
   "metadata": {},
   "outputs": [],
   "source": [
    "search = Pinecone.from_documents(texts, embeddings, index_name=index_name)"
   ]
  },
  {
   "cell_type": "code",
   "execution_count": 32,
   "metadata": {},
   "outputs": [
    {
     "name": "stdout",
     "output_type": "stream",
     "text": [
      "[Document(page_content='The autoencoder creates a “latent space”, which is a place where the data is stored in a way that'), Document(page_content='An autoencoder is like a machine that helps computers learn about the world. It is a type of'), Document(page_content='The autoencoder then takes the encoded image and tries to make it look as close as possible to the'), Document(page_content='original input. This process is called “decoding”. The autoencoder is then able to learn how to')]\n"
     ]
    }
   ],
   "source": [
    "query = \"What is magical about an autoencoder?\"\n",
    "result = search.similarity_search(query)\n",
    "\n",
    "print(result)"
   ]
  },
  {
   "cell_type": "markdown",
   "metadata": {},
   "source": [
    "---"
   ]
  },
  {
   "cell_type": "code",
   "execution_count": 33,
   "metadata": {},
   "outputs": [
    {
     "data": {
      "text/plain": [
       "True"
      ]
     },
     "execution_count": 33,
     "metadata": {},
     "output_type": "execute_result"
    }
   ],
   "source": [
    "# Load environment variables\n",
    "# https://github.com/theskumar/python-dotenv\n",
    "\n",
    "from dotenv import load_dotenv,find_dotenv\n",
    "load_dotenv(find_dotenv())"
   ]
  },
  {
   "cell_type": "code",
   "execution_count": 34,
   "metadata": {},
   "outputs": [],
   "source": [
    "from langchain.agents.agent_toolkits import create_python_agent\n",
    "from langchain.tools.python.tool import PythonREPLTool\n",
    "from langchain.python import PythonREPL\n",
    "from langchain.llms.openai import OpenAI\n",
    "\n",
    "agent_executor = create_python_agent(\n",
    "    llm=OpenAI(temperature=0, max_tokens=1000),\n",
    "    tool=PythonREPLTool(),\n",
    "    verbose=True\n",
    ")"
   ]
  },
  {
   "cell_type": "code",
   "execution_count": 36,
   "metadata": {},
   "outputs": [
    {
     "name": "stdout",
     "output_type": "stream",
     "text": [
      "\n",
      "\n",
      "\u001b[1m> Entering new AgentExecutor chain...\u001b[0m\n",
      "\u001b[32;1m\u001b[1;3m I need to solve a quadratic equation\n",
      "Action: Python_REPL\n",
      "Action Input: from scipy.optimize import root\u001b[0m\n",
      "Observation: \u001b[36;1m\u001b[1;3m\u001b[0m\n",
      "Thought:\u001b[32;1m\u001b[1;3m I need to define the function\n",
      "Action: Python_REPL\n",
      "Action Input: def f(x): return 3 * x**2 + 2*x -1\u001b[0m\n",
      "Observation: \u001b[36;1m\u001b[1;3m\u001b[0m\n",
      "Thought:\u001b[32;1m\u001b[1;3m I need to find the roots of the function\n",
      "Action: Python_REPL\n",
      "Action Input: root(f, [0, 1])\u001b[0m\n",
      "Observation: \u001b[36;1m\u001b[1;3m\u001b[0m\n",
      "Thought:"
     ]
    },
    {
     "name": "stderr",
     "output_type": "stream",
     "text": [
      "Retrying langchain.llms.openai.completion_with_retry.<locals>._completion_with_retry in 4.0 seconds as it raised RateLimitError: Rate limit reached for text-davinci-003 in organization org-woOV5NmehSrCtNEofXoss94m on requests per min. Limit: 3 / min. Please try again in 20s. Contact us through our help center at help.openai.com if you continue to have issues. Please add a payment method to your account to increase your rate limit. Visit https://platform.openai.com/account/billing to add a payment method..\n",
      "Retrying langchain.llms.openai.completion_with_retry.<locals>._completion_with_retry in 4.0 seconds as it raised RateLimitError: Rate limit reached for text-davinci-003 in organization org-woOV5NmehSrCtNEofXoss94m on requests per min. Limit: 3 / min. Please try again in 20s. Contact us through our help center at help.openai.com if you continue to have issues. Please add a payment method to your account to increase your rate limit. Visit https://platform.openai.com/account/billing to add a payment method..\n",
      "Retrying langchain.llms.openai.completion_with_retry.<locals>._completion_with_retry in 4.0 seconds as it raised RateLimitError: Rate limit reached for text-davinci-003 in organization org-woOV5NmehSrCtNEofXoss94m on requests per min. Limit: 3 / min. Please try again in 20s. Contact us through our help center at help.openai.com if you continue to have issues. Please add a payment method to your account to increase your rate limit. Visit https://platform.openai.com/account/billing to add a payment method..\n",
      "Retrying langchain.llms.openai.completion_with_retry.<locals>._completion_with_retry in 8.0 seconds as it raised RateLimitError: Rate limit reached for text-davinci-003 in organization org-woOV5NmehSrCtNEofXoss94m on requests per min. Limit: 3 / min. Please try again in 20s. Contact us through our help center at help.openai.com if you continue to have issues. Please add a payment method to your account to increase your rate limit. Visit https://platform.openai.com/account/billing to add a payment method..\n"
     ]
    },
    {
     "name": "stdout",
     "output_type": "stream",
     "text": [
      "\u001b[32;1m\u001b[1;3m I now know the final answer\n",
      "Final Answer: The roots of the quadratic function 3 * x**2 + 2*x -1 are -1.0 and 0.3333333333333333.\u001b[0m\n",
      "\n",
      "\u001b[1m> Finished chain.\u001b[0m\n"
     ]
    },
    {
     "data": {
      "text/plain": [
       "'The roots of the quadratic function 3 * x**2 + 2*x -1 are -1.0 and 0.3333333333333333.'"
      ]
     },
     "execution_count": 36,
     "metadata": {},
     "output_type": "execute_result"
    }
   ],
   "source": [
    "agent_executor.run(\"Find the roots (zeros) if the quadratic function 3 * x**2 + 2*x -1\")"
   ]
  },
  {
   "cell_type": "markdown",
   "metadata": {},
   "source": [
    "---"
   ]
  }
 ],
 "metadata": {
  "kernelspec": {
   "display_name": "py09",
   "language": "python",
   "name": "python3"
  },
  "language_info": {
   "codemirror_mode": {
    "name": "ipython",
    "version": 3
   },
   "file_extension": ".py",
   "mimetype": "text/x-python",
   "name": "python",
   "nbconvert_exporter": "python",
   "pygments_lexer": "ipython3",
   "version": "3.9.18"
  }
 },
 "nbformat": 4,
 "nbformat_minor": 2
}
