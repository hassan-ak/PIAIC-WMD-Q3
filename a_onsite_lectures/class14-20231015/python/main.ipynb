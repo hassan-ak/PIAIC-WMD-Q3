{
 "cells": [
  {
   "cell_type": "markdown",
   "metadata": {},
   "source": [
    "# Python\n",
    "\n",
    "## Print Statement"
   ]
  },
  {
   "cell_type": "code",
   "execution_count": 1,
   "metadata": {},
   "outputs": [
    {
     "name": "stdout",
     "output_type": "stream",
     "text": [
      "Hello World!\n",
      "9\n"
     ]
    }
   ],
   "source": [
    "print(\"Hello World!\")\n",
    "\n",
    "print(3 + 6)"
   ]
  },
  {
   "cell_type": "markdown",
   "metadata": {},
   "source": [
    "## Variables"
   ]
  },
  {
   "cell_type": "code",
   "execution_count": 2,
   "metadata": {},
   "outputs": [
    {
     "name": "stdout",
     "output_type": "stream",
     "text": [
      "Hello Python world!\n",
      "Hello from PIAIC\n"
     ]
    }
   ],
   "source": [
    "## Values to the variables can be re-assigned\n",
    "\n",
    "message = \"Hello Python world!\"\n",
    "print(message)\n",
    "\n",
    "message = \"Hello from PIAIC\"\n",
    "print(message)"
   ]
  },
  {
   "cell_type": "code",
   "execution_count": 5,
   "metadata": {},
   "outputs": [
    {
     "name": "stdout",
     "output_type": "stream",
     "text": [
      "Python keywords are...\n",
      "['False', 'None', 'True', 'and', 'as', 'assert', 'async', 'await', 'break', 'class', 'continue', 'def', 'del', 'elif', 'else', 'except', 'finally', 'for', 'from', 'global', 'if', 'import', 'in', 'is', 'lambda', 'nonlocal', 'not', 'or', 'pass', 'raise', 'return', 'try', 'while', 'with', 'yield']\n"
     ]
    },
    {
     "data": {
      "text/html": [
       "<div>\n",
       "<style scoped>\n",
       "    .dataframe tbody tr th:only-of-type {\n",
       "        vertical-align: middle;\n",
       "    }\n",
       "\n",
       "    .dataframe tbody tr th {\n",
       "        vertical-align: top;\n",
       "    }\n",
       "\n",
       "    .dataframe thead th {\n",
       "        text-align: right;\n",
       "    }\n",
       "</style>\n",
       "<table border=\"1\" class=\"dataframe\">\n",
       "  <thead>\n",
       "    <tr style=\"text-align: right;\">\n",
       "      <th></th>\n",
       "      <th>0</th>\n",
       "    </tr>\n",
       "  </thead>\n",
       "  <tbody>\n",
       "    <tr>\n",
       "      <th>0</th>\n",
       "      <td>False</td>\n",
       "    </tr>\n",
       "    <tr>\n",
       "      <th>1</th>\n",
       "      <td>None</td>\n",
       "    </tr>\n",
       "    <tr>\n",
       "      <th>2</th>\n",
       "      <td>True</td>\n",
       "    </tr>\n",
       "    <tr>\n",
       "      <th>3</th>\n",
       "      <td>and</td>\n",
       "    </tr>\n",
       "    <tr>\n",
       "      <th>4</th>\n",
       "      <td>as</td>\n",
       "    </tr>\n",
       "    <tr>\n",
       "      <th>5</th>\n",
       "      <td>assert</td>\n",
       "    </tr>\n",
       "    <tr>\n",
       "      <th>6</th>\n",
       "      <td>async</td>\n",
       "    </tr>\n",
       "    <tr>\n",
       "      <th>7</th>\n",
       "      <td>await</td>\n",
       "    </tr>\n",
       "    <tr>\n",
       "      <th>8</th>\n",
       "      <td>break</td>\n",
       "    </tr>\n",
       "    <tr>\n",
       "      <th>9</th>\n",
       "      <td>class</td>\n",
       "    </tr>\n",
       "    <tr>\n",
       "      <th>10</th>\n",
       "      <td>continue</td>\n",
       "    </tr>\n",
       "    <tr>\n",
       "      <th>11</th>\n",
       "      <td>def</td>\n",
       "    </tr>\n",
       "    <tr>\n",
       "      <th>12</th>\n",
       "      <td>del</td>\n",
       "    </tr>\n",
       "    <tr>\n",
       "      <th>13</th>\n",
       "      <td>elif</td>\n",
       "    </tr>\n",
       "    <tr>\n",
       "      <th>14</th>\n",
       "      <td>else</td>\n",
       "    </tr>\n",
       "    <tr>\n",
       "      <th>15</th>\n",
       "      <td>except</td>\n",
       "    </tr>\n",
       "    <tr>\n",
       "      <th>16</th>\n",
       "      <td>finally</td>\n",
       "    </tr>\n",
       "    <tr>\n",
       "      <th>17</th>\n",
       "      <td>for</td>\n",
       "    </tr>\n",
       "    <tr>\n",
       "      <th>18</th>\n",
       "      <td>from</td>\n",
       "    </tr>\n",
       "    <tr>\n",
       "      <th>19</th>\n",
       "      <td>global</td>\n",
       "    </tr>\n",
       "    <tr>\n",
       "      <th>20</th>\n",
       "      <td>if</td>\n",
       "    </tr>\n",
       "    <tr>\n",
       "      <th>21</th>\n",
       "      <td>import</td>\n",
       "    </tr>\n",
       "    <tr>\n",
       "      <th>22</th>\n",
       "      <td>in</td>\n",
       "    </tr>\n",
       "    <tr>\n",
       "      <th>23</th>\n",
       "      <td>is</td>\n",
       "    </tr>\n",
       "    <tr>\n",
       "      <th>24</th>\n",
       "      <td>lambda</td>\n",
       "    </tr>\n",
       "    <tr>\n",
       "      <th>25</th>\n",
       "      <td>nonlocal</td>\n",
       "    </tr>\n",
       "    <tr>\n",
       "      <th>26</th>\n",
       "      <td>not</td>\n",
       "    </tr>\n",
       "    <tr>\n",
       "      <th>27</th>\n",
       "      <td>or</td>\n",
       "    </tr>\n",
       "    <tr>\n",
       "      <th>28</th>\n",
       "      <td>pass</td>\n",
       "    </tr>\n",
       "    <tr>\n",
       "      <th>29</th>\n",
       "      <td>raise</td>\n",
       "    </tr>\n",
       "    <tr>\n",
       "      <th>30</th>\n",
       "      <td>return</td>\n",
       "    </tr>\n",
       "    <tr>\n",
       "      <th>31</th>\n",
       "      <td>try</td>\n",
       "    </tr>\n",
       "    <tr>\n",
       "      <th>32</th>\n",
       "      <td>while</td>\n",
       "    </tr>\n",
       "    <tr>\n",
       "      <th>33</th>\n",
       "      <td>with</td>\n",
       "    </tr>\n",
       "    <tr>\n",
       "      <th>34</th>\n",
       "      <td>yield</td>\n",
       "    </tr>\n",
       "  </tbody>\n",
       "</table>\n",
       "</div>"
      ],
      "text/plain": [
       "           0\n",
       "0      False\n",
       "1       None\n",
       "2       True\n",
       "3        and\n",
       "4         as\n",
       "5     assert\n",
       "6      async\n",
       "7      await\n",
       "8      break\n",
       "9      class\n",
       "10  continue\n",
       "11       def\n",
       "12       del\n",
       "13      elif\n",
       "14      else\n",
       "15    except\n",
       "16   finally\n",
       "17       for\n",
       "18      from\n",
       "19    global\n",
       "20        if\n",
       "21    import\n",
       "22        in\n",
       "23        is\n",
       "24    lambda\n",
       "25  nonlocal\n",
       "26       not\n",
       "27        or\n",
       "28      pass\n",
       "29     raise\n",
       "30    return\n",
       "31       try\n",
       "32     while\n",
       "33      with\n",
       "34     yield"
      ]
     },
     "execution_count": 5,
     "metadata": {},
     "output_type": "execute_result"
    }
   ],
   "source": [
    "## Naming convention\n",
    "\n",
    "## only letters, numbers and underscore\n",
    "## cant start with a number\n",
    "## no spaces\n",
    "## Cant use python keywords\n",
    "## short but descriptive\n",
    "\n",
    "# importing the module\n",
    "import keyword\n",
    "\n",
    "# printing the keywords\n",
    "print(\"Python keywords are...\")\n",
    "print(keyword.kwlist)\n",
    "\n",
    "import pandas as pd\n",
    "kw = pd.DataFrame(keyword.kwlist)\n",
    "kw\n",
    "\n"
   ]
  },
  {
   "cell_type": "markdown",
   "metadata": {},
   "source": [
    "## Strings"
   ]
  },
  {
   "cell_type": "code",
   "execution_count": 6,
   "metadata": {},
   "outputs": [
    {
     "name": "stdout",
     "output_type": "stream",
     "text": [
      "Hassan\n",
      "Hassan\n"
     ]
    }
   ],
   "source": [
    "name = \"Hassan\"\n",
    "print(name)\n",
    "\n",
    "name = 'Ali'\n",
    "print(name)"
   ]
  },
  {
   "cell_type": "code",
   "execution_count": 9,
   "metadata": {},
   "outputs": [
    {
     "name": "stdout",
     "output_type": "stream",
     "text": [
      "Hassan\n",
      "<class 'str'>\n",
      "['__add__', '__class__', '__contains__', '__delattr__', '__dir__', '__doc__', '__eq__', '__format__', '__ge__', '__getattribute__', '__getitem__', '__getnewargs__', '__getstate__', '__gt__', '__hash__', '__init__', '__init_subclass__', '__iter__', '__le__', '__len__', '__lt__', '__mod__', '__mul__', '__ne__', '__new__', '__reduce__', '__reduce_ex__', '__repr__', '__rmod__', '__rmul__', '__setattr__', '__sizeof__', '__str__', '__subclasshook__', 'capitalize', 'casefold', 'center', 'count', 'encode', 'endswith', 'expandtabs', 'find', 'format', 'format_map', 'index', 'isalnum', 'isalpha', 'isascii', 'isdecimal', 'isdigit', 'isidentifier', 'islower', 'isnumeric', 'isprintable', 'isspace', 'istitle', 'isupper', 'join', 'ljust', 'lower', 'lstrip', 'maketrans', 'partition', 'removeprefix', 'removesuffix', 'replace', 'rfind', 'rindex', 'rjust', 'rpartition', 'rsplit', 'rstrip', 'split', 'splitlines', 'startswith', 'strip', 'swapcase', 'title', 'translate', 'upper', 'zfill']\n",
      "139923191019056\n"
     ]
    }
   ],
   "source": [
    "name = \"Hassan\"\n",
    "print(name)\n",
    "print(type(name))\n",
    "print(dir(name))\n",
    "print(id(name))"
   ]
  },
  {
   "cell_type": "code",
   "execution_count": 12,
   "metadata": {},
   "outputs": [
    {
     "name": "stdout",
     "output_type": "stream",
     "text": [
      "Hassan\n",
      "27\n",
      "Hassan\n",
      "27\n"
     ]
    }
   ],
   "source": [
    "name: str = \"Hassan\"\n",
    "print(name)\n",
    "name: str = 27\n",
    "print(name)\n",
    "\n",
    "\n",
    "name: str = \"Hassan\"\n",
    "print(name)\n",
    "name = 27\n",
    "print(name)\n"
   ]
  },
  {
   "cell_type": "code",
   "execution_count": 13,
   "metadata": {},
   "outputs": [
    {
     "name": "stdout",
     "output_type": "stream",
     "text": [
      "Hassan 'Ali' Khan\n",
      "Hassan \"Ali\" Khan\n",
      "Hassan 'Ali Khan\n",
      "Hassan \"Ali Khan\n"
     ]
    }
   ],
   "source": [
    "name: str = \"Hassan 'Ali' Khan\"\n",
    "print(name)\n",
    "name: str = 'Hassan \"Ali\" Khan'\n",
    "print(name)\n",
    "name: str = 'Hassan \\'Ali Khan'\n",
    "print(name)\n",
    "name: str = \"Hassan \\\"Ali Khan\"\n",
    "print(name)"
   ]
  },
  {
   "cell_type": "code",
   "execution_count": 54,
   "metadata": {},
   "outputs": [
    {
     "name": "stdout",
     "output_type": "stream",
     "text": [
      "Hassan \t\t\t'Ali' Khan\n",
      "Hassan \n",
      "\n",
      "\n",
      "'Ali' Khan\n"
     ]
    }
   ],
   "source": [
    "name: str = \"Hassan \\t\\t\\t'Ali' Khan\"\n",
    "print(name)\n",
    "\n",
    "name: str = \"Hassan \\n\\n\\n'Ali' Khan\"\n",
    "print(name)"
   ]
  },
  {
   "cell_type": "code",
   "execution_count": 55,
   "metadata": {},
   "outputs": [
    {
     "name": "stdout",
     "output_type": "stream",
     "text": [
      "['__add__', '__class__', '__contains__', '__delattr__', '__dir__', '__doc__', '__eq__', '__format__', '__ge__', '__getattribute__', '__getitem__', '__getnewargs__', '__getstate__', '__gt__', '__hash__', '__init__', '__init_subclass__', '__iter__', '__le__', '__len__', '__lt__', '__mod__', '__mul__', '__ne__', '__new__', '__reduce__', '__reduce_ex__', '__repr__', '__rmod__', '__rmul__', '__setattr__', '__sizeof__', '__str__', '__subclasshook__', 'capitalize', 'casefold', 'center', 'count', 'encode', 'endswith', 'expandtabs', 'find', 'format', 'format_map', 'index', 'isalnum', 'isalpha', 'isascii', 'isdecimal', 'isdigit', 'isidentifier', 'islower', 'isnumeric', 'isprintable', 'isspace', 'istitle', 'isupper', 'join', 'ljust', 'lower', 'lstrip', 'maketrans', 'partition', 'removeprefix', 'removesuffix', 'replace', 'rfind', 'rindex', 'rjust', 'rpartition', 'rsplit', 'rstrip', 'split', 'splitlines', 'startswith', 'strip', 'swapcase', 'title', 'translate', 'upper', 'zfill']\n"
     ]
    }
   ],
   "source": [
    "name1: str = \"haSaSn aLi kHaN\"\n",
    "print(dir(name1))"
   ]
  },
  {
   "cell_type": "markdown",
   "metadata": {},
   "source": [
    "- string methods\n",
    "  - capitalize\n",
    "  - casefold\n",
    "  - center\n",
    "  - count\n",
    "  - encode\n",
    "  - endswith\n",
    "  - expandtabs\n",
    "  - find\n",
    "  - format\n",
    "  - format_map\n",
    "  - index\n",
    "  - isalnum\n",
    "  - isalpha\n",
    "  - isascii\n",
    "  - isdecimal\n",
    "  - isdigit\n",
    "  - isidentifier\n",
    "  - islower\n",
    "  - isnumeric\n",
    "  - isprintable\n",
    "  - isspace\n",
    "  - istitle\n",
    "  - isupper\n",
    "  - join\n",
    "  - ljust\n",
    "  - lower\n",
    "  - lstrip\n",
    "  - maketrans\n",
    "  - partition\n",
    "  - removeprefix\n",
    "  - removesuffix\n",
    "  - replace\n",
    "  - rfind\n",
    "  - rindex\n",
    "  - rjust\n",
    "  - rpartition\n",
    "  - rsplit\n",
    "  - rstrip\n",
    "  - split\n",
    "  - splitlines\n",
    "  - startswith\n",
    "  - strip\n",
    "  - swapcase\n",
    "  - title\n",
    "  - translate\n",
    "  - upper\n",
    "  - zfill\n"
   ]
  },
  {
   "cell_type": "code",
   "execution_count": 127,
   "metadata": {},
   "outputs": [
    {
     "name": "stdout",
     "output_type": "stream",
     "text": [
      "haSaSn aLi kHaN\n",
      "Hasasn ali khan\n",
      "hasasn ali khan\n",
      "--haSaSn aLi kHaN---\n",
      "4\n",
      "b'\\xff\\xfeh\\x00a\\x00S\\x00a\\x00S\\x00n\\x00 \\x00a\\x00L\\x00i\\x00 \\x00k\\x00H\\x00a\\x00N\\x00'\n",
      "False\n",
      "Hassan              'Ali' Khan\n",
      "-1\n",
      "11\n",
      "True\n",
      "False\n",
      "True\n",
      "True\n",
      "False\n",
      "True\n",
      "True\n",
      "False\n",
      "True\n",
      "True\n",
      "False\n",
      "False\n",
      "h-A-s-s-a-n\n",
      "Hassan--------------\n",
      "hassan\n",
      "Hassan\n",
      "('Hassan Al', 'i', ' Khan')\n",
      "assan Ali Khan\n",
      "Hassan Ali Kha\n",
      "H*ss*n Ali Khan\n",
      "13\n",
      "13\n",
      "--------------Hassan\n",
      "('Hassan Ali Kh', 'a', 'n')\n",
      "['Hassan', 'Ali', 'Khan']\n",
      "         Hassan         \n",
      "['H', 'ss', 'n Ali Kh', 'n']\n",
      "['Hassan Ali ', 'Khan']\n",
      "True\n",
      "Hassan\n",
      "hASSAN\n",
      "Hello Pam!\n",
      "Hello Pam!\n",
      "HASSAN\n",
      "0000Hassan\n",
      "Hasasn Ali Khan\n"
     ]
    }
   ],
   "source": [
    "# String Methods\n",
    "\n",
    "print(\"haSaSn aLi kHaN\")\n",
    "print(\"haSaSn aLi kHaN\".capitalize())\n",
    "print(\"haSaSn aLi kHaN\".casefold())\n",
    "print(\"haSaSn aLi kHaN\".center(20,\"-\"))\n",
    "print(\"haSaSn aLi kHaN\".count(\"a\"))\n",
    "print(\"haSaSn aLi kHaN\".encode(\"utf-16\"))\n",
    "print(\"haSaSn aLi kHaN\".endswith((\"a\",\"N\"),2,3))\n",
    "print(\"Hassan \\t'Ali' Khan\".expandtabs(20))\n",
    "print(\"Hassan \\t'Ali' Khan\".find(\"i\",1,10))\n",
    "print(\"Hassan \\t'Ali' Khan\".index(\"i\",1,15))\n",
    "print(\"name3\".isalnum())\n",
    "print(\"name3\".isalpha())\n",
    "print(\"name3\".isascii())\n",
    "print(\"35\".isdecimal())\n",
    "print(\"35a\".isdigit())\n",
    "print(\"if\".isidentifier())\n",
    "print(\"if\".islower())\n",
    "print(\"if\".isnumeric())\n",
    "print(\"if\".isprintable())\n",
    "print(\" \".isspace())\n",
    "print(\"hAssan\".istitle())\n",
    "print(\"hAssan\".isupper())\n",
    "test= (\"h\",\"A\",\"s\",\"s\",\"a\",\"n\")\n",
    "print(\"-\".join(test))\n",
    "print(\"Hassan\".ljust(20,\"-\"))\n",
    "print(\"Hassan\".lower())\n",
    "print(\"        Hassan\".lstrip())\n",
    "print(\"Hassan Ali Khan\".partition(\"i\"))\n",
    "print(\"Hassan Ali Khan\".removeprefix(\"H\"))\n",
    "print(\"Hassan Ali Khan\".removesuffix(\"n\"))\n",
    "print(\"Hassan Ali Khan\".replace(\"a\",\"*\",2))\n",
    "print(\"Hassan Ali Khan\".rfind(\"a\"))\n",
    "print(\"Hassan Ali Khan\".rindex(\"a\"))\n",
    "print(\"Hassan\".rjust(20,\"-\"))\n",
    "print(\"Hassan Ali Khan\".rpartition(\"a\"))\n",
    "print(\"Hassan Ali Khan\".rsplit())\n",
    "print(\"         Hassan         \".rstrip(\"a\"))\n",
    "print(\"Hassan Ali Khan\".split(\"a\"))\n",
    "print(\"Hassan Ali \\nKhan\".splitlines())\n",
    "print(\"Hassan Ali \\nKhan\".startswith(\"H\"))\n",
    "print(\"         Hassan         \".strip())\n",
    "print(\"Hassan\".swapcase())\n",
    "print(name1.title())\n",
    "print(\"Hello Sam!\".translate({83:  80}))\n",
    "print(\"Hello Sam!\".translate(str.maketrans(\"S\", \"P\")))\n",
    "print(\"Hassan\".upper())\n",
    "print(\"Hassan\".zfill(10))"
   ]
  },
  {
   "cell_type": "code",
   "execution_count": 145,
   "metadata": {},
   "outputs": [
    {
     "name": "stdout",
     "output_type": "stream",
     "text": [
      "HassanAliKhan\n",
      "HassanAliKhan\n",
      "Hassan    Ali    Khan\n",
      "Hassan\n",
      "    Ali\n",
      "    Khan\n",
      "Hassan\n",
      "    Ali\n",
      "    Khan\n",
      "PIAIC student card\n",
      "Student Name:\tHassan\n",
      "Age:\t25\n",
      "PIAIC student card\n",
      "Student Name:\tHassan\n",
      "Age:\t25\n",
      "\n",
      "PIAIC Student Card \n",
      "Name : Hassan\n",
      "Father Name : Ali\n",
      "Age : 25\n",
      "Education : MSEE\n",
      "\n",
      "\n",
      "PIAIC Student Card \n",
      "Name : Hassan\n",
      "Father Name : Ali\n",
      "Age : 25\n",
      "Education : MSEE\n",
      "\n",
      "\n",
      "PIAIC Student Card \n",
      "Name : 25\n",
      "Father Name : Ali\n",
      "Age : Hassan\n",
      "Education : MSEE\n",
      "\n",
      "\n",
      "PIAIC Student Card \n",
      "Name : Zeeshan\n",
      "Father Name : Aziz\n",
      "Age : 25\n",
      "Education : BSSE\n",
      "\n"
     ]
    }
   ],
   "source": [
    "# String Concatenation\n",
    "\n",
    "name : str = 'Hassan' 'Ali' 'Khan'\n",
    "print(name)\n",
    "\n",
    "name : str = 'Hassan'\\\n",
    "    'Ali'\\\n",
    "    'Khan'\n",
    "print(name)\n",
    "\n",
    "name : str = 'Hassan\\\n",
    "    Ali\\\n",
    "    Khan'\n",
    "print(name)\n",
    "\n",
    "name : str = \"\"\"Hassan\n",
    "    Ali\n",
    "    Khan\"\"\"\n",
    "print(name)\n",
    "\n",
    "name : str = '''Hassan\n",
    "    Ali\n",
    "    Khan'''\n",
    "print(name)\n",
    "\n",
    "name : str = \"Hassan\"\n",
    "fname : str = \"Ali\"\n",
    "age : str = \"25\"\n",
    "education : str = \"MSEE\"\n",
    "card: str = \"PIAIC student card\\nStudent Name:\\t\" + name + \"\\nAge:\\t\" + age\n",
    "print(card)\n",
    "\n",
    "name : str = \"Hassan\"\n",
    "fname : str = \"Ali\"\n",
    "age : int = 25\n",
    "education : str = \"MSEE\"\n",
    "card: str = \"PIAIC student card\\nStudent Name:\\t\" + name + \"\\nAge:\\t\" + str(age)\n",
    "print(card)\n",
    "\n",
    "name : str = \"Hassan\"\n",
    "fname : str = \"Ali\"\n",
    "age : int = 25\n",
    "education : str = \"MSEE\"\n",
    "card: str = \"\"\"\n",
    "PIAIC Student Card \n",
    "Name : %s\n",
    "Father Name : %s\n",
    "Age : %d\n",
    "Education : %s\n",
    "\"\"\" % (name, fname, age, education)\n",
    "print(card)\n",
    "\n",
    "name : str = \"Hassan\"\n",
    "fname : str = \"Ali\"\n",
    "age : int = 25\n",
    "education : str = \"MSEE\"\n",
    "card: str = \"\"\"\n",
    "PIAIC Student Card \n",
    "Name : {}\n",
    "Father Name : {}\n",
    "Age : {}\n",
    "Education : {}\n",
    "\"\"\".format(name, fname, age, education)\n",
    "print(card)\n",
    "\n",
    "name : str = \"Hassan\"\n",
    "fname : str = \"Ali\"\n",
    "age : int = 25\n",
    "education : str = \"MSEE\"\n",
    "card: str = \"\"\"\n",
    "PIAIC Student Card \n",
    "Name : {2}\n",
    "Father Name : {1}\n",
    "Age : {0}\n",
    "Education : {3}\n",
    "\"\"\".format(name, fname, age, education)\n",
    "print(card)\n",
    "\n",
    "name : str = \"Hassan\"\n",
    "fname : str = \"Ali\"\n",
    "age : int = 25\n",
    "education : str = \"MSEE\"\n",
    "card: str = \"\"\"\n",
    "PIAIC Student Card \n",
    "Name : {a}\n",
    "Father Name : {b}\n",
    "Age : {c}\n",
    "Education : {d}\n",
    "\"\"\".format(a=name, b=fname, c=age, d=education)\n",
    "print(card)\n",
    "\n",
    "name : str = \"Hassan\"\n",
    "fname : str = \"Ali\"\n",
    "age : int = 25\n",
    "education : str = \"BSSE\"\n",
    "card: str = f\"\"\"\n",
    "PIAIC Student Card \n",
    "Name : {name}\n",
    "Father Name : {fname}\n",
    "Age : {age}\n",
    "Education : {education}\n",
    "\"\"\"\n",
    "print(card)"
   ]
  },
  {
   "cell_type": "markdown",
   "metadata": {},
   "source": [
    "## Numbers"
   ]
  },
  {
   "cell_type": "code",
   "execution_count": 149,
   "metadata": {},
   "outputs": [
    {
     "name": "stdout",
     "output_type": "stream",
     "text": [
      "27\n",
      "27.5\n"
     ]
    }
   ],
   "source": [
    "age: int = 27\n",
    "print(age)\n",
    "\n",
    "age: float = 27.5\n",
    "print(age)"
   ]
  },
  {
   "cell_type": "code",
   "execution_count": 150,
   "metadata": {},
   "outputs": [
    {
     "name": "stdout",
     "output_type": "stream",
     "text": [
      "8\n",
      "-4\n",
      "0.24\n",
      "78\n"
     ]
    }
   ],
   "source": [
    "print(3 + 5)\n",
    "print(6 - 10)\n",
    "print(6 / 25)\n",
    "print(6 * 13)\n"
   ]
  },
  {
   "cell_type": "code",
   "execution_count": 151,
   "metadata": {},
   "outputs": [
    {
     "name": "stdout",
     "output_type": "stream",
     "text": [
      "28430288029929701376\n",
      "14\n",
      "20\n"
     ]
    }
   ],
   "source": [
    "print(6 ** 25)\n",
    "print(2 + 3 * 4)\n",
    "print((2 + 3) * 4)"
   ]
  },
  {
   "cell_type": "code",
   "execution_count": 153,
   "metadata": {},
   "outputs": [
    {
     "name": "stdout",
     "output_type": "stream",
     "text": [
      "24.0\n",
      "14000000000\n"
     ]
    }
   ],
   "source": [
    "print(600 / 25)\n",
    "print(14_000_000_000)\n"
   ]
  },
  {
   "cell_type": "code",
   "execution_count": 154,
   "metadata": {},
   "outputs": [
    {
     "name": "stdout",
     "output_type": "stream",
     "text": [
      "0 0 0\n"
     ]
    }
   ],
   "source": [
    "x, y, z = 0, 0, 0\n",
    "print(x,y,z)"
   ]
  },
  {
   "cell_type": "code",
   "execution_count": null,
   "metadata": {},
   "outputs": [],
   "source": [
    "MAX_CONNECTIONS = 5000\n",
    "print(MAX_CONNECTIONS)"
   ]
  },
  {
   "cell_type": "code",
   "execution_count": 157,
   "metadata": {},
   "outputs": [
    {
     "name": "stdout",
     "output_type": "stream",
     "text": [
      "['__abs__', '__add__', '__and__', '__bool__', '__ceil__', '__class__', '__delattr__', '__dir__', '__divmod__', '__doc__', '__eq__', '__float__', '__floor__', '__floordiv__', '__format__', '__ge__', '__getattribute__', '__getnewargs__', '__getstate__', '__gt__', '__hash__', '__index__', '__init__', '__init_subclass__', '__int__', '__invert__', '__le__', '__lshift__', '__lt__', '__mod__', '__mul__', '__ne__', '__neg__', '__new__', '__or__', '__pos__', '__pow__', '__radd__', '__rand__', '__rdivmod__', '__reduce__', '__reduce_ex__', '__repr__', '__rfloordiv__', '__rlshift__', '__rmod__', '__rmul__', '__ror__', '__round__', '__rpow__', '__rrshift__', '__rshift__', '__rsub__', '__rtruediv__', '__rxor__', '__setattr__', '__sizeof__', '__str__', '__sub__', '__subclasshook__', '__truediv__', '__trunc__', '__xor__', 'as_integer_ratio', 'bit_count', 'bit_length', 'conjugate', 'denominator', 'from_bytes', 'imag', 'is_integer', 'numerator', 'real', 'to_bytes']\n"
     ]
    }
   ],
   "source": [
    "age = 28\n",
    "print(dir(age))"
   ]
  },
  {
   "cell_type": "markdown",
   "metadata": {},
   "source": [
    "- Methods\n",
    "    - as_integer_ratio\n",
    "    - bit_count\n",
    "    - bit_length\n",
    "    - conjugate\n",
    "    - denominator\n",
    "    - from_bytes\n",
    "    - imag\n",
    "    - is_integer\n",
    "    - numerator\n",
    "    - real\n",
    "    - to_bytes"
   ]
  },
  {
   "cell_type": "markdown",
   "metadata": {},
   "source": [
    "## Comments"
   ]
  },
  {
   "cell_type": "code",
   "execution_count": 169,
   "metadata": {},
   "outputs": [
    {
     "name": "stdout",
     "output_type": "stream",
     "text": [
      "(28, 1)\n",
      "3\n",
      "5\n",
      "28\n",
      "170\n",
      "True\n",
      "b'\\x1c'\n"
     ]
    }
   ],
   "source": [
    "print(age.as_integer_ratio())\n",
    "print(age.bit_count())\n",
    "print(age.bit_length())\n",
    "print(age.conjugate())\n",
    "print(int.from_bytes(b'\\xAA\\x00\\x00\\x00',byteorder='little'))\n",
    "print(age.is_integer())\n",
    "print(age.to_bytes())\n",
    "\n",
    "#     - imag\n",
    "#     - numerator\n",
    "#     - real\n"
   ]
  },
  {
   "cell_type": "code",
   "execution_count": 155,
   "metadata": {},
   "outputs": [
    {
     "data": {
      "text/plain": [
       "'\\nThis is\\na comment\\n'"
      ]
     },
     "execution_count": 155,
     "metadata": {},
     "output_type": "execute_result"
    }
   ],
   "source": [
    "# This is a comment\n",
    "\n",
    "# This is \n",
    "# a comment\n",
    "\n",
    "\"\"\"\n",
    "This is\n",
    "a comment\n",
    "\"\"\""
   ]
  },
  {
   "cell_type": "markdown",
   "metadata": {},
   "source": [
    "## The Zen of Python"
   ]
  },
  {
   "cell_type": "code",
   "execution_count": 156,
   "metadata": {},
   "outputs": [
    {
     "name": "stdout",
     "output_type": "stream",
     "text": [
      "The Zen of Python, by Tim Peters\n",
      "\n",
      "Beautiful is better than ugly.\n",
      "Explicit is better than implicit.\n",
      "Simple is better than complex.\n",
      "Complex is better than complicated.\n",
      "Flat is better than nested.\n",
      "Sparse is better than dense.\n",
      "Readability counts.\n",
      "Special cases aren't special enough to break the rules.\n",
      "Although practicality beats purity.\n",
      "Errors should never pass silently.\n",
      "Unless explicitly silenced.\n",
      "In the face of ambiguity, refuse the temptation to guess.\n",
      "There should be one-- and preferably only one --obvious way to do it.\n",
      "Although that way may not be obvious at first unless you're Dutch.\n",
      "Now is better than never.\n",
      "Although never is often better than *right* now.\n",
      "If the implementation is hard to explain, it's a bad idea.\n",
      "If the implementation is easy to explain, it may be a good idea.\n",
      "Namespaces are one honking great idea -- let's do more of those!\n"
     ]
    }
   ],
   "source": [
    "import this"
   ]
  },
  {
   "cell_type": "markdown",
   "metadata": {},
   "source": [
    "# Exercises\n",
    "\n",
    "**2-1. Simple Message:** Assign a message to a variable, and then print that message.\n",
    "\n",
    "**2-2. Simple Messages:** Assign a message to a variable, and print that message. Then change the value of the variable to a new message, and print the new\n",
    "message.\n",
    "\n",
    "**2-3. Personal Message:** Use a variable to represent a person’s name, and print a message to that person. Your message should be simple, such as, “Hello Eric, would you like to learn some Python today?”\n",
    "\n",
    "**2-4. Name Cases:** Use a variable to represent a person’s name, and then print that person’s name in lowercase, uppercase, and title case.\n",
    "\n",
    "**2-5. Famous Quote:** Find a quote from a famous person you admire. Print the quote and the name of its author. Your output should look something like the following, including the quotation marks: Albert Einstein once said, “A person who never made a mistake never tried anything new.”\n",
    "\n",
    "**2-6. Famous Quote 2:** Repeat Exercise 2-5, but this time, represent the famous person’s name using a variable called famous_person. Then compose your mes-\n",
    "sage and represent it with a new variable called message. Print your message.\n",
    "\n",
    "**2-7. Stripping Names:** Use a variable to represent a person’s name, and include some whitespace characters at the beginning and end of the name. Make sure you use each character combination, \"\\t\" and \"\\n\", at least once. Print the name once, so the whitespace around the name is displayed. Then print the name using each of the three stripping functions, lstrip(), rstrip(), and strip().\n",
    "\n",
    "**2-8. File Extensions:** Python has a removesuffix() method that works exactly like removeprefix(). Assign the value 'python_notes.txt' to a variable called\n",
    "filename. Then use the removesuffix() method to display the filename without the file extension, like some file browsers do.\n",
    "\n",
    "**2-9. Number Eight:** Write addition, subtraction, multiplication, and division operations that each result in the number 8. Be sure to enclose your operations\n",
    "in print() calls to see the results. You should create four lines that look like this: Your output should be four lines, with the number 8 appearing once on\n",
    "each line.\n",
    "\n",
    "**2-10. Favorite Number:** Use a variable to represent your favorite number. Then, using that variable, create a message that reveals your favorite number. Print\n",
    "that message.\n",
    "\n",
    "**2-11. Adding Comments:** Choose two of the programs you’ve written, and add at least one comment to each. If you don’t have anything specific to write\n",
    "because your programs are too simple at this point, just add your name and the current date at the top of each program file. Then write one sentence describing\n",
    "what the program does\n",
    "\n",
    "**2-12. Zen of Python:** Enter import this into a Python terminal session and skim through the additional principles."
   ]
  }
 ],
 "metadata": {
  "kernelspec": {
   "display_name": "py12",
   "language": "python",
   "name": "python3"
  },
  "language_info": {
   "codemirror_mode": {
    "name": "ipython",
    "version": 3
   },
   "file_extension": ".py",
   "mimetype": "text/x-python",
   "name": "python",
   "nbconvert_exporter": "python",
   "pygments_lexer": "ipython3",
   "version": "3.12.0"
  }
 },
 "nbformat": 4,
 "nbformat_minor": 2
}
